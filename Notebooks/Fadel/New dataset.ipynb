{
 "cells": [
  {
   "cell_type": "code",
   "execution_count": 1,
   "metadata": {
    "collapsed": true
   },
   "outputs": [],
   "source": [
    "import torch\n",
    "import numpy as np\n",
    "import pandas as pd\n",
    "import matplotlib.pyplot as plt\n",
    "import sklearn\n",
    "import imblearn\n",
    "import pickle\n",
    "import sklearn.model_selection as model_selection\n",
    "from sklearn.neighbors import KNeighborsClassifier\n",
    "from sklearn.model_selection import train_test_split\n",
    "from sklearn import metrics\n",
    "from sklearn.metrics import confusion_matrix\n",
    "from sklearn.model_selection import cross_val_score\n",
    "%matplotlib inline"
   ]
  },
  {
   "cell_type": "code",
   "execution_count": 2,
   "metadata": {
    "collapsed": true
   },
   "outputs": [],
   "source": [
    "new_data = pd.read_csv('./all/dataraning_new_data.csv') # upload the training set"
   ]
  },
  {
   "cell_type": "code",
   "execution_count": 3,
   "metadata": {
    "collapsed": false
   },
   "outputs": [
    {
     "data": {
      "text/html": [
       "<div>\n",
       "<table border=\"1\" class=\"dataframe\">\n",
       "  <thead>\n",
       "    <tr style=\"text-align: right;\">\n",
       "      <th></th>\n",
       "      <th>Unnamed: 0</th>\n",
       "      <th>Resp</th>\n",
       "      <th>VL.t0</th>\n",
       "      <th>CD4.t0</th>\n",
       "      <th>rtlength</th>\n",
       "      <th>pr_A</th>\n",
       "      <th>pr_C</th>\n",
       "      <th>pr_G</th>\n",
       "      <th>pr_R</th>\n",
       "      <th>pr_T</th>\n",
       "      <th>pr_Y</th>\n",
       "      <th>PR_GC</th>\n",
       "      <th>RT_A</th>\n",
       "      <th>RT_C</th>\n",
       "      <th>RT_G</th>\n",
       "      <th>RT_R</th>\n",
       "      <th>RT_T</th>\n",
       "      <th>RT_Y</th>\n",
       "      <th>RT_GC</th>\n",
       "    </tr>\n",
       "  </thead>\n",
       "  <tbody>\n",
       "    <tr>\n",
       "      <th>0</th>\n",
       "      <td>1</td>\n",
       "      <td>0</td>\n",
       "      <td>4.3</td>\n",
       "      <td>145</td>\n",
       "      <td>1005</td>\n",
       "      <td>104</td>\n",
       "      <td>51</td>\n",
       "      <td>67</td>\n",
       "      <td>2</td>\n",
       "      <td>71</td>\n",
       "      <td>2</td>\n",
       "      <td>0.402730</td>\n",
       "      <td>402</td>\n",
       "      <td>167</td>\n",
       "      <td>210</td>\n",
       "      <td>1</td>\n",
       "      <td>1</td>\n",
       "      <td>1</td>\n",
       "      <td>0.378134</td>\n",
       "    </tr>\n",
       "    <tr>\n",
       "      <th>1</th>\n",
       "      <td>2</td>\n",
       "      <td>0</td>\n",
       "      <td>3.6</td>\n",
       "      <td>224</td>\n",
       "      <td>909</td>\n",
       "      <td>110</td>\n",
       "      <td>49</td>\n",
       "      <td>65</td>\n",
       "      <td>73</td>\n",
       "      <td>0</td>\n",
       "      <td>0</td>\n",
       "      <td>0.383838</td>\n",
       "      <td>355</td>\n",
       "      <td>151</td>\n",
       "      <td>193</td>\n",
       "      <td>1</td>\n",
       "      <td>3</td>\n",
       "      <td>203</td>\n",
       "      <td>0.381375</td>\n",
       "    </tr>\n",
       "    <tr>\n",
       "      <th>2</th>\n",
       "      <td>3</td>\n",
       "      <td>0</td>\n",
       "      <td>3.2</td>\n",
       "      <td>1017</td>\n",
       "      <td>903</td>\n",
       "      <td>105</td>\n",
       "      <td>47</td>\n",
       "      <td>67</td>\n",
       "      <td>2</td>\n",
       "      <td>74</td>\n",
       "      <td>2</td>\n",
       "      <td>0.389078</td>\n",
       "      <td>360</td>\n",
       "      <td>146</td>\n",
       "      <td>181</td>\n",
       "      <td>1</td>\n",
       "      <td>7</td>\n",
       "      <td>201</td>\n",
       "      <td>0.368243</td>\n",
       "    </tr>\n",
       "    <tr>\n",
       "      <th>3</th>\n",
       "      <td>4</td>\n",
       "      <td>0</td>\n",
       "      <td>5.7</td>\n",
       "      <td>206</td>\n",
       "      <td>1455</td>\n",
       "      <td>105</td>\n",
       "      <td>49</td>\n",
       "      <td>71</td>\n",
       "      <td>1</td>\n",
       "      <td>71</td>\n",
       "      <td>0</td>\n",
       "      <td>0.405405</td>\n",
       "      <td>586</td>\n",
       "      <td>245</td>\n",
       "      <td>305</td>\n",
       "      <td>1</td>\n",
       "      <td>1</td>\n",
       "      <td>317</td>\n",
       "      <td>0.378527</td>\n",
       "    </tr>\n",
       "    <tr>\n",
       "      <th>4</th>\n",
       "      <td>5</td>\n",
       "      <td>0</td>\n",
       "      <td>3.5</td>\n",
       "      <td>572</td>\n",
       "      <td>903</td>\n",
       "      <td>105</td>\n",
       "      <td>50</td>\n",
       "      <td>69</td>\n",
       "      <td>73</td>\n",
       "      <td>0</td>\n",
       "      <td>0</td>\n",
       "      <td>0.400673</td>\n",
       "      <td>353</td>\n",
       "      <td>150</td>\n",
       "      <td>184</td>\n",
       "      <td>2</td>\n",
       "      <td>5</td>\n",
       "      <td>1</td>\n",
       "      <td>0.374439</td>\n",
       "    </tr>\n",
       "  </tbody>\n",
       "</table>\n",
       "</div>"
      ],
      "text/plain": [
       "   Unnamed: 0  Resp  VL.t0  CD4.t0  rtlength  pr_A  pr_C  pr_G  pr_R  pr_T  \\\n",
       "0           1     0    4.3     145      1005   104    51    67     2    71   \n",
       "1           2     0    3.6     224       909   110    49    65    73     0   \n",
       "2           3     0    3.2    1017       903   105    47    67     2    74   \n",
       "3           4     0    5.7     206      1455   105    49    71     1    71   \n",
       "4           5     0    3.5     572       903   105    50    69    73     0   \n",
       "\n",
       "   pr_Y     PR_GC  RT_A  RT_C  RT_G  RT_R  RT_T  RT_Y     RT_GC  \n",
       "0     2  0.402730   402   167   210     1     1     1  0.378134  \n",
       "1     0  0.383838   355   151   193     1     3   203  0.381375  \n",
       "2     2  0.389078   360   146   181     1     7   201  0.368243  \n",
       "3     0  0.405405   586   245   305     1     1   317  0.378527  \n",
       "4     0  0.400673   353   150   184     2     5     1  0.374439  "
      ]
     },
     "execution_count": 3,
     "metadata": {},
     "output_type": "execute_result"
    }
   ],
   "source": [
    "new_data.head()"
   ]
  },
  {
   "cell_type": "code",
   "execution_count": 4,
   "metadata": {
    "collapsed": false,
    "scrolled": true
   },
   "outputs": [
    {
     "data": {
      "text/plain": [
       "<matplotlib.axes._subplots.AxesSubplot at 0x7f66bdc22e48>"
      ]
     },
     "execution_count": 4,
     "metadata": {},
     "output_type": "execute_result"
    },
    {
     "data": {
      "image/png": "[encoded data removed]",
      "text/plain": [
       "<matplotlib.figure.Figure at 0x7f66bdc7c710>"
      ]
     },
     "metadata": {},
     "output_type": "display_data"
    }
   ],
   "source": [
    "new_data[\"Resp\"].value_counts().plot.pie()"
   ]
  },
  {
   "cell_type": "code",
   "execution_count": 5,
   "metadata": {
    "collapsed": false,
    "scrolled": true
   },
   "outputs": [
    {
     "data": {
      "text/html": [
       "<div>\n",
       "<table border=\"1\" class=\"dataframe\">\n",
       "  <thead>\n",
       "    <tr style=\"text-align: right;\">\n",
       "      <th></th>\n",
       "      <th>Unnamed: 0</th>\n",
       "      <th>Resp</th>\n",
       "      <th>VL.t0</th>\n",
       "      <th>CD4.t0</th>\n",
       "      <th>rtlength</th>\n",
       "      <th>pr_A</th>\n",
       "      <th>pr_C</th>\n",
       "      <th>pr_G</th>\n",
       "      <th>pr_R</th>\n",
       "      <th>pr_T</th>\n",
       "      <th>pr_Y</th>\n",
       "      <th>PR_GC</th>\n",
       "      <th>RT_A</th>\n",
       "      <th>RT_C</th>\n",
       "      <th>RT_G</th>\n",
       "      <th>RT_R</th>\n",
       "      <th>RT_T</th>\n",
       "      <th>RT_Y</th>\n",
       "      <th>RT_GC</th>\n",
       "    </tr>\n",
       "  </thead>\n",
       "  <tbody>\n",
       "    <tr>\n",
       "      <th>Unnamed: 0</th>\n",
       "      <td>1.000000</td>\n",
       "      <td>0.316746</td>\n",
       "      <td>0.082143</td>\n",
       "      <td>0.038613</td>\n",
       "      <td>0.060402</td>\n",
       "      <td>-0.289413</td>\n",
       "      <td>-0.104817</td>\n",
       "      <td>-0.052061</td>\n",
       "      <td>-0.156757</td>\n",
       "      <td>0.037121</td>\n",
       "      <td>0.073843</td>\n",
       "      <td>0.039735</td>\n",
       "      <td>0.055431</td>\n",
       "      <td>0.039726</td>\n",
       "      <td>0.045710</td>\n",
       "      <td>-0.018059</td>\n",
       "      <td>-0.105165</td>\n",
       "      <td>0.024748</td>\n",
       "      <td>0.019547</td>\n",
       "    </tr>\n",
       "    <tr>\n",
       "      <th>Resp</th>\n",
       "      <td>0.316746</td>\n",
       "      <td>1.000000</td>\n",
       "      <td>0.363947</td>\n",
       "      <td>-0.127548</td>\n",
       "      <td>0.320095</td>\n",
       "      <td>-0.121435</td>\n",
       "      <td>-0.080273</td>\n",
       "      <td>-0.030747</td>\n",
       "      <td>-0.106768</td>\n",
       "      <td>0.046432</td>\n",
       "      <td>0.054466</td>\n",
       "      <td>-0.029655</td>\n",
       "      <td>0.315671</td>\n",
       "      <td>0.294487</td>\n",
       "      <td>0.269169</td>\n",
       "      <td>-0.045041</td>\n",
       "      <td>-0.118343</td>\n",
       "      <td>0.070142</td>\n",
       "      <td>0.105843</td>\n",
       "    </tr>\n",
       "    <tr>\n",
       "      <th>VL.t0</th>\n",
       "      <td>0.082143</td>\n",
       "      <td>0.363947</td>\n",
       "      <td>1.000000</td>\n",
       "      <td>-0.427281</td>\n",
       "      <td>0.327529</td>\n",
       "      <td>-0.010349</td>\n",
       "      <td>-0.011644</td>\n",
       "      <td>0.012650</td>\n",
       "      <td>-0.099714</td>\n",
       "      <td>0.063036</td>\n",
       "      <td>0.018848</td>\n",
       "      <td>-0.040033</td>\n",
       "      <td>0.324758</td>\n",
       "      <td>0.299423</td>\n",
       "      <td>0.300049</td>\n",
       "      <td>-0.085253</td>\n",
       "      <td>-0.080765</td>\n",
       "      <td>0.082630</td>\n",
       "      <td>0.060104</td>\n",
       "    </tr>\n",
       "    <tr>\n",
       "      <th>CD4.t0</th>\n",
       "      <td>0.038613</td>\n",
       "      <td>-0.127548</td>\n",
       "      <td>-0.427281</td>\n",
       "      <td>1.000000</td>\n",
       "      <td>-0.297203</td>\n",
       "      <td>-0.022918</td>\n",
       "      <td>0.044449</td>\n",
       "      <td>0.041038</td>\n",
       "      <td>0.086117</td>\n",
       "      <td>-0.024116</td>\n",
       "      <td>-0.044339</td>\n",
       "      <td>0.060032</td>\n",
       "      <td>-0.292327</td>\n",
       "      <td>-0.275972</td>\n",
       "      <td>-0.269580</td>\n",
       "      <td>0.063620</td>\n",
       "      <td>0.058562</td>\n",
       "      <td>-0.054134</td>\n",
       "      <td>-0.101756</td>\n",
       "    </tr>\n",
       "    <tr>\n",
       "      <th>rtlength</th>\n",
       "      <td>0.060402</td>\n",
       "      <td>0.320095</td>\n",
       "      <td>0.327529</td>\n",
       "      <td>-0.297203</td>\n",
       "      <td>1.000000</td>\n",
       "      <td>0.004620</td>\n",
       "      <td>0.001332</td>\n",
       "      <td>0.018774</td>\n",
       "      <td>-0.129542</td>\n",
       "      <td>0.045435</td>\n",
       "      <td>0.098628</td>\n",
       "      <td>-0.010285</td>\n",
       "      <td>0.997939</td>\n",
       "      <td>0.938903</td>\n",
       "      <td>0.944121</td>\n",
       "      <td>-0.090145</td>\n",
       "      <td>-0.076606</td>\n",
       "      <td>0.136990</td>\n",
       "      <td>0.485215</td>\n",
       "    </tr>\n",
       "    <tr>\n",
       "      <th>pr_A</th>\n",
       "      <td>-0.289413</td>\n",
       "      <td>-0.121435</td>\n",
       "      <td>-0.010349</td>\n",
       "      <td>-0.022918</td>\n",
       "      <td>0.004620</td>\n",
       "      <td>1.000000</td>\n",
       "      <td>0.165435</td>\n",
       "      <td>-0.123698</td>\n",
       "      <td>0.243491</td>\n",
       "      <td>0.000056</td>\n",
       "      <td>-0.188840</td>\n",
       "      <td>-0.495073</td>\n",
       "      <td>0.011044</td>\n",
       "      <td>0.009148</td>\n",
       "      <td>0.011599</td>\n",
       "      <td>0.097611</td>\n",
       "      <td>0.022571</td>\n",
       "      <td>-0.043869</td>\n",
       "      <td>-0.023715</td>\n",
       "    </tr>\n",
       "    <tr>\n",
       "      <th>pr_C</th>\n",
       "      <td>-0.104817</td>\n",
       "      <td>-0.080273</td>\n",
       "      <td>-0.011644</td>\n",
       "      <td>0.044449</td>\n",
       "      <td>0.001332</td>\n",
       "      <td>0.165435</td>\n",
       "      <td>1.000000</td>\n",
       "      <td>0.158018</td>\n",
       "      <td>0.062032</td>\n",
       "      <td>-0.024762</td>\n",
       "      <td>-0.053688</td>\n",
       "      <td>0.552580</td>\n",
       "      <td>0.006332</td>\n",
       "      <td>0.015336</td>\n",
       "      <td>0.010107</td>\n",
       "      <td>-0.063966</td>\n",
       "      <td>0.050509</td>\n",
       "      <td>-0.014506</td>\n",
       "      <td>0.011730</td>\n",
       "    </tr>\n",
       "    <tr>\n",
       "      <th>pr_G</th>\n",
       "      <td>-0.052061</td>\n",
       "      <td>-0.030747</td>\n",
       "      <td>0.012650</td>\n",
       "      <td>0.041038</td>\n",
       "      <td>0.018774</td>\n",
       "      <td>-0.123698</td>\n",
       "      <td>0.158018</td>\n",
       "      <td>1.000000</td>\n",
       "      <td>-0.024814</td>\n",
       "      <td>-0.007022</td>\n",
       "      <td>-0.022936</td>\n",
       "      <td>0.350968</td>\n",
       "      <td>0.020450</td>\n",
       "      <td>0.019386</td>\n",
       "      <td>0.014290</td>\n",
       "      <td>0.031384</td>\n",
       "      <td>-0.006384</td>\n",
       "      <td>-0.003723</td>\n",
       "      <td>0.028718</td>\n",
       "    </tr>\n",
       "    <tr>\n",
       "      <th>pr_R</th>\n",
       "      <td>-0.156757</td>\n",
       "      <td>-0.106768</td>\n",
       "      <td>-0.099714</td>\n",
       "      <td>0.086117</td>\n",
       "      <td>-0.129542</td>\n",
       "      <td>0.243491</td>\n",
       "      <td>0.062032</td>\n",
       "      <td>-0.024814</td>\n",
       "      <td>1.000000</td>\n",
       "      <td>-0.559403</td>\n",
       "      <td>-0.341439</td>\n",
       "      <td>-0.019549</td>\n",
       "      <td>-0.121479</td>\n",
       "      <td>-0.096217</td>\n",
       "      <td>-0.100271</td>\n",
       "      <td>0.188537</td>\n",
       "      <td>0.088849</td>\n",
       "      <td>-0.095437</td>\n",
       "      <td>-0.019180</td>\n",
       "    </tr>\n",
       "    <tr>\n",
       "      <th>pr_T</th>\n",
       "      <td>0.037121</td>\n",
       "      <td>0.046432</td>\n",
       "      <td>0.063036</td>\n",
       "      <td>-0.024116</td>\n",
       "      <td>0.045435</td>\n",
       "      <td>0.000056</td>\n",
       "      <td>-0.024762</td>\n",
       "      <td>-0.007022</td>\n",
       "      <td>-0.559403</td>\n",
       "      <td>1.000000</td>\n",
       "      <td>-0.459740</td>\n",
       "      <td>-0.054546</td>\n",
       "      <td>0.047112</td>\n",
       "      <td>0.058270</td>\n",
       "      <td>0.028524</td>\n",
       "      <td>-0.082375</td>\n",
       "      <td>-0.050419</td>\n",
       "      <td>0.053928</td>\n",
       "      <td>-0.026724</td>\n",
       "    </tr>\n",
       "    <tr>\n",
       "      <th>pr_Y</th>\n",
       "      <td>0.073843</td>\n",
       "      <td>0.054466</td>\n",
       "      <td>0.018848</td>\n",
       "      <td>-0.044339</td>\n",
       "      <td>0.098628</td>\n",
       "      <td>-0.188840</td>\n",
       "      <td>-0.053688</td>\n",
       "      <td>-0.022936</td>\n",
       "      <td>-0.341439</td>\n",
       "      <td>-0.459740</td>\n",
       "      <td>1.000000</td>\n",
       "      <td>0.056307</td>\n",
       "      <td>0.089328</td>\n",
       "      <td>0.057745</td>\n",
       "      <td>0.087273</td>\n",
       "      <td>-0.090885</td>\n",
       "      <td>-0.042089</td>\n",
       "      <td>0.027596</td>\n",
       "      <td>0.082371</td>\n",
       "    </tr>\n",
       "    <tr>\n",
       "      <th>PR_GC</th>\n",
       "      <td>0.039735</td>\n",
       "      <td>-0.029655</td>\n",
       "      <td>-0.040033</td>\n",
       "      <td>0.060032</td>\n",
       "      <td>-0.010285</td>\n",
       "      <td>-0.495073</td>\n",
       "      <td>0.552580</td>\n",
       "      <td>0.350968</td>\n",
       "      <td>-0.019549</td>\n",
       "      <td>-0.054546</td>\n",
       "      <td>0.056307</td>\n",
       "      <td>1.000000</td>\n",
       "      <td>-0.007739</td>\n",
       "      <td>0.004325</td>\n",
       "      <td>-0.014258</td>\n",
       "      <td>-0.081843</td>\n",
       "      <td>0.045487</td>\n",
       "      <td>0.004808</td>\n",
       "      <td>-0.000513</td>\n",
       "    </tr>\n",
       "    <tr>\n",
       "      <th>RT_A</th>\n",
       "      <td>0.055431</td>\n",
       "      <td>0.315671</td>\n",
       "      <td>0.324758</td>\n",
       "      <td>-0.292327</td>\n",
       "      <td>0.997939</td>\n",
       "      <td>0.011044</td>\n",
       "      <td>0.006332</td>\n",
       "      <td>0.020450</td>\n",
       "      <td>-0.121479</td>\n",
       "      <td>0.047112</td>\n",
       "      <td>0.089328</td>\n",
       "      <td>-0.007739</td>\n",
       "      <td>1.000000</td>\n",
       "      <td>0.938039</td>\n",
       "      <td>0.941122</td>\n",
       "      <td>-0.076158</td>\n",
       "      <td>-0.066181</td>\n",
       "      <td>0.133181</td>\n",
       "      <td>0.455368</td>\n",
       "    </tr>\n",
       "    <tr>\n",
       "      <th>RT_C</th>\n",
       "      <td>0.039726</td>\n",
       "      <td>0.294487</td>\n",
       "      <td>0.299423</td>\n",
       "      <td>-0.275972</td>\n",
       "      <td>0.938903</td>\n",
       "      <td>0.009148</td>\n",
       "      <td>0.015336</td>\n",
       "      <td>0.019386</td>\n",
       "      <td>-0.096217</td>\n",
       "      <td>0.058270</td>\n",
       "      <td>0.057745</td>\n",
       "      <td>0.004325</td>\n",
       "      <td>0.938039</td>\n",
       "      <td>1.000000</td>\n",
       "      <td>0.907075</td>\n",
       "      <td>-0.148563</td>\n",
       "      <td>-0.047448</td>\n",
       "      <td>0.147334</td>\n",
       "      <td>0.514687</td>\n",
       "    </tr>\n",
       "    <tr>\n",
       "      <th>RT_G</th>\n",
       "      <td>0.045710</td>\n",
       "      <td>0.269169</td>\n",
       "      <td>0.300049</td>\n",
       "      <td>-0.269580</td>\n",
       "      <td>0.944121</td>\n",
       "      <td>0.011599</td>\n",
       "      <td>0.010107</td>\n",
       "      <td>0.014290</td>\n",
       "      <td>-0.100271</td>\n",
       "      <td>0.028524</td>\n",
       "      <td>0.087273</td>\n",
       "      <td>-0.014258</td>\n",
       "      <td>0.941122</td>\n",
       "      <td>0.907075</td>\n",
       "      <td>1.000000</td>\n",
       "      <td>-0.167082</td>\n",
       "      <td>-0.050812</td>\n",
       "      <td>0.143727</td>\n",
       "      <td>0.499224</td>\n",
       "    </tr>\n",
       "    <tr>\n",
       "      <th>RT_R</th>\n",
       "      <td>-0.018059</td>\n",
       "      <td>-0.045041</td>\n",
       "      <td>-0.085253</td>\n",
       "      <td>0.063620</td>\n",
       "      <td>-0.090145</td>\n",
       "      <td>0.097611</td>\n",
       "      <td>-0.063966</td>\n",
       "      <td>0.031384</td>\n",
       "      <td>0.188537</td>\n",
       "      <td>-0.082375</td>\n",
       "      <td>-0.090885</td>\n",
       "      <td>-0.081843</td>\n",
       "      <td>-0.076158</td>\n",
       "      <td>-0.148563</td>\n",
       "      <td>-0.167082</td>\n",
       "      <td>1.000000</td>\n",
       "      <td>-0.210416</td>\n",
       "      <td>-0.233202</td>\n",
       "      <td>-0.085303</td>\n",
       "    </tr>\n",
       "    <tr>\n",
       "      <th>RT_T</th>\n",
       "      <td>-0.105165</td>\n",
       "      <td>-0.118343</td>\n",
       "      <td>-0.080765</td>\n",
       "      <td>0.058562</td>\n",
       "      <td>-0.076606</td>\n",
       "      <td>0.022571</td>\n",
       "      <td>0.050509</td>\n",
       "      <td>-0.006384</td>\n",
       "      <td>0.088849</td>\n",
       "      <td>-0.050419</td>\n",
       "      <td>-0.042089</td>\n",
       "      <td>0.045487</td>\n",
       "      <td>-0.066181</td>\n",
       "      <td>-0.047448</td>\n",
       "      <td>-0.050812</td>\n",
       "      <td>-0.210416</td>\n",
       "      <td>1.000000</td>\n",
       "      <td>-0.439550</td>\n",
       "      <td>-0.010580</td>\n",
       "    </tr>\n",
       "    <tr>\n",
       "      <th>RT_Y</th>\n",
       "      <td>0.024748</td>\n",
       "      <td>0.070142</td>\n",
       "      <td>0.082630</td>\n",
       "      <td>-0.054134</td>\n",
       "      <td>0.136990</td>\n",
       "      <td>-0.043869</td>\n",
       "      <td>-0.014506</td>\n",
       "      <td>-0.003723</td>\n",
       "      <td>-0.095437</td>\n",
       "      <td>0.053928</td>\n",
       "      <td>0.027596</td>\n",
       "      <td>0.004808</td>\n",
       "      <td>0.133181</td>\n",
       "      <td>0.147334</td>\n",
       "      <td>0.143727</td>\n",
       "      <td>-0.233202</td>\n",
       "      <td>-0.439550</td>\n",
       "      <td>1.000000</td>\n",
       "      <td>0.103095</td>\n",
       "    </tr>\n",
       "    <tr>\n",
       "      <th>RT_GC</th>\n",
       "      <td>0.019547</td>\n",
       "      <td>0.105843</td>\n",
       "      <td>0.060104</td>\n",
       "      <td>-0.101756</td>\n",
       "      <td>0.485215</td>\n",
       "      <td>-0.023715</td>\n",
       "      <td>0.011730</td>\n",
       "      <td>0.028718</td>\n",
       "      <td>-0.019180</td>\n",
       "      <td>-0.026724</td>\n",
       "      <td>0.082371</td>\n",
       "      <td>-0.000513</td>\n",
       "      <td>0.455368</td>\n",
       "      <td>0.514687</td>\n",
       "      <td>0.499224</td>\n",
       "      <td>-0.085303</td>\n",
       "      <td>-0.010580</td>\n",
       "      <td>0.103095</td>\n",
       "      <td>1.000000</td>\n",
       "    </tr>\n",
       "  </tbody>\n",
       "</table>\n",
       "</div>"
      ],
      "text/plain": [
       "            Unnamed: 0      Resp     VL.t0    CD4.t0  rtlength      pr_A  \\\n",
       "Unnamed: 0    1.000000  0.316746  0.082143  0.038613  0.060402 -0.289413   \n",
       "Resp          0.316746  1.000000  0.363947 -0.127548  0.320095 -0.121435   \n",
       "VL.t0         0.082143  0.363947  1.000000 -0.427281  0.327529 -0.010349   \n",
       "CD4.t0        0.038613 -0.127548 -0.427281  1.000000 -0.297203 -0.022918   \n",
       "rtlength      0.060402  0.320095  0.327529 -0.297203  1.000000  0.004620   \n",
       "pr_A         -0.289413 -0.121435 -0.010349 -0.022918  0.004620  1.000000   \n",
       "pr_C         -0.104817 -0.080273 -0.011644  0.044449  0.001332  0.165435   \n",
       "pr_G         -0.052061 -0.030747  0.012650  0.041038  0.018774 -0.123698   \n",
       "pr_R         -0.156757 -0.106768 -0.099714  0.086117 -0.129542  0.243491   \n",
       "pr_T          0.037121  0.046432  0.063036 -0.024116  0.045435  0.000056   \n",
       "pr_Y          0.073843  0.054466  0.018848 -0.044339  0.098628 -0.188840   \n",
       "PR_GC         0.039735 -0.029655 -0.040033  0.060032 -0.010285 -0.495073   \n",
       "RT_A          0.055431  0.315671  0.324758 -0.292327  0.997939  0.011044   \n",
       "RT_C          0.039726  0.294487  0.299423 -0.275972  0.938903  0.009148   \n",
       "RT_G          0.045710  0.269169  0.300049 -0.269580  0.944121  0.011599   \n",
       "RT_R         -0.018059 -0.045041 -0.085253  0.063620 -0.090145  0.097611   \n",
       "RT_T         -0.105165 -0.118343 -0.080765  0.058562 -0.076606  0.022571   \n",
       "RT_Y          0.024748  0.070142  0.082630 -0.054134  0.136990 -0.043869   \n",
       "RT_GC         0.019547  0.105843  0.060104 -0.101756  0.485215 -0.023715   \n",
       "\n",
       "                pr_C      pr_G      pr_R      pr_T      pr_Y     PR_GC  \\\n",
       "Unnamed: 0 -0.104817 -0.052061 -0.156757  0.037121  0.073843  0.039735   \n",
       "Resp       -0.080273 -0.030747 -0.106768  0.046432  0.054466 -0.029655   \n",
       "VL.t0      -0.011644  0.012650 -0.099714  0.063036  0.018848 -0.040033   \n",
       "CD4.t0      0.044449  0.041038  0.086117 -0.024116 -0.044339  0.060032   \n",
       "rtlength    0.001332  0.018774 -0.129542  0.045435  0.098628 -0.010285   \n",
       "pr_A        0.165435 -0.123698  0.243491  0.000056 -0.188840 -0.495073   \n",
       "pr_C        1.000000  0.158018  0.062032 -0.024762 -0.053688  0.552580   \n",
       "pr_G        0.158018  1.000000 -0.024814 -0.007022 -0.022936  0.350968   \n",
       "pr_R        0.062032 -0.024814  1.000000 -0.559403 -0.341439 -0.019549   \n",
       "pr_T       -0.024762 -0.007022 -0.559403  1.000000 -0.459740 -0.054546   \n",
       "pr_Y       -0.053688 -0.022936 -0.341439 -0.459740  1.000000  0.056307   \n",
       "PR_GC       0.552580  0.350968 -0.019549 -0.054546  0.056307  1.000000   \n",
       "RT_A        0.006332  0.020450 -0.121479  0.047112  0.089328 -0.007739   \n",
       "RT_C        0.015336  0.019386 -0.096217  0.058270  0.057745  0.004325   \n",
       "RT_G        0.010107  0.014290 -0.100271  0.028524  0.087273 -0.014258   \n",
       "RT_R       -0.063966  0.031384  0.188537 -0.082375 -0.090885 -0.081843   \n",
       "RT_T        0.050509 -0.006384  0.088849 -0.050419 -0.042089  0.045487   \n",
       "RT_Y       -0.014506 -0.003723 -0.095437  0.053928  0.027596  0.004808   \n",
       "RT_GC       0.011730  0.028718 -0.019180 -0.026724  0.082371 -0.000513   \n",
       "\n",
       "                RT_A      RT_C      RT_G      RT_R      RT_T      RT_Y  \\\n",
       "Unnamed: 0  0.055431  0.039726  0.045710 -0.018059 -0.105165  0.024748   \n",
       "Resp        0.315671  0.294487  0.269169 -0.045041 -0.118343  0.070142   \n",
       "VL.t0       0.324758  0.299423  0.300049 -0.085253 -0.080765  0.082630   \n",
       "CD4.t0     -0.292327 -0.275972 -0.269580  0.063620  0.058562 -0.054134   \n",
       "rtlength    0.997939  0.938903  0.944121 -0.090145 -0.076606  0.136990   \n",
       "pr_A        0.011044  0.009148  0.011599  0.097611  0.022571 -0.043869   \n",
       "pr_C        0.006332  0.015336  0.010107 -0.063966  0.050509 -0.014506   \n",
       "pr_G        0.020450  0.019386  0.014290  0.031384 -0.006384 -0.003723   \n",
       "pr_R       -0.121479 -0.096217 -0.100271  0.188537  0.088849 -0.095437   \n",
       "pr_T        0.047112  0.058270  0.028524 -0.082375 -0.050419  0.053928   \n",
       "pr_Y        0.089328  0.057745  0.087273 -0.090885 -0.042089  0.027596   \n",
       "PR_GC      -0.007739  0.004325 -0.014258 -0.081843  0.045487  0.004808   \n",
       "RT_A        1.000000  0.938039  0.941122 -0.076158 -0.066181  0.133181   \n",
       "RT_C        0.938039  1.000000  0.907075 -0.148563 -0.047448  0.147334   \n",
       "RT_G        0.941122  0.907075  1.000000 -0.167082 -0.050812  0.143727   \n",
       "RT_R       -0.076158 -0.148563 -0.167082  1.000000 -0.210416 -0.233202   \n",
       "RT_T       -0.066181 -0.047448 -0.050812 -0.210416  1.000000 -0.439550   \n",
       "RT_Y        0.133181  0.147334  0.143727 -0.233202 -0.439550  1.000000   \n",
       "RT_GC       0.455368  0.514687  0.499224 -0.085303 -0.010580  0.103095   \n",
       "\n",
       "               RT_GC  \n",
       "Unnamed: 0  0.019547  \n",
       "Resp        0.105843  \n",
       "VL.t0       0.060104  \n",
       "CD4.t0     -0.101756  \n",
       "rtlength    0.485215  \n",
       "pr_A       -0.023715  \n",
       "pr_C        0.011730  \n",
       "pr_G        0.028718  \n",
       "pr_R       -0.019180  \n",
       "pr_T       -0.026724  \n",
       "pr_Y        0.082371  \n",
       "PR_GC      -0.000513  \n",
       "RT_A        0.455368  \n",
       "RT_C        0.514687  \n",
       "RT_G        0.499224  \n",
       "RT_R       -0.085303  \n",
       "RT_T       -0.010580  \n",
       "RT_Y        0.103095  \n",
       "RT_GC       1.000000  "
      ]
     },
     "execution_count": 5,
     "metadata": {},
     "output_type": "execute_result"
    }
   ],
   "source": [
    "#Lets see how correlated are the different features\n",
    "new_data.corr()"
   ]
  },
  {
   "cell_type": "code",
   "execution_count": 6,
   "metadata": {
    "collapsed": false
   },
   "outputs": [
    {
     "data": {
      "text/plain": [
       "0"
      ]
     },
     "execution_count": 6,
     "metadata": {},
     "output_type": "execute_result"
    }
   ],
   "source": [
    "# Lets look at the missing data\n",
    "new_data.isnull().sum().sum()"
   ]
  },
  {
   "cell_type": "code",
   "execution_count": 7,
   "metadata": {
    "collapsed": false
   },
   "outputs": [
    {
     "name": "stdout",
     "output_type": "stream",
     "text": [
      "Original dataset:  0    733\n",
      "1    187\n",
      "Name: Resp, dtype: int64\n",
      "\n",
      "Number of 1 in the new  dataset:  733\n"
     ]
    }
   ],
   "source": [
    "#Our dataset is imbalanced, lets fix that\n",
    "VL = new_data['VL.t0'].values.tolist()   # get all the values of viral load in a list\n",
    "CD4 = new_data['CD4.t0'].values.tolist() # get all the values of CD4+ cells in a list\n",
    "rt_length = new_data['rtlength'].values.tolist()\n",
    "pr_A = new_data['pr_A'].values.tolist()\n",
    "pr_C = new_data['pr_C'].values.tolist()\n",
    "pr_G = new_data['pr_G'].values.tolist()\n",
    "pr_R = new_data['pr_R'].values.tolist()\n",
    "pr_T = new_data['pr_T'].values.tolist()\n",
    "pr_Y = new_data['pr_Y'].values.tolist()\n",
    "pr_GC = new_data['PR_GC'].values.tolist()\n",
    "rt_A = new_data['RT_A'].values.tolist()\n",
    "rt_C = new_data['RT_C'].values.tolist()\n",
    "rt_G = new_data['RT_G'].values.tolist()\n",
    "rt_R = new_data['RT_R'].values.tolist()\n",
    "rt_T = new_data['RT_T'].values.tolist()\n",
    "rt_Y = new_data['RT_Y'].values.tolist()\n",
    "rt_GC = new_data['RT_GC'].values.tolist()\n",
    "\n",
    "inp = list(zip(VL,CD4,pr_A,pr_C,pr_G,pr_R,pr_T,pr_Y,pr_GC,rt_length,rt_A,rt_C,rt_G,rt_R,rt_T,rt_Y,rt_GC))  # create a new input feature with the two numerical features\n",
    "lab = new_data[\"Resp\"].values.tolist()\n",
    "\n",
    "\n",
    "\n",
    "from imblearn.over_sampling import SMOTE\n",
    "sm = imblearn.over_sampling.SMOTE(sampling_strategy = 'auto', kind = 'regular',random_state=5)\n",
    "\n",
    "#VL.t0 ,CD4.t0 ,rtlength ,pr_A ,pr_C ,pr_G ,pr_R ,pr_T ,pr_Y ,PR_GC ,RT_A ,RT_C ,RT_G ,RT_R ,RT_T,RT_Y,RT_GC\n",
    "\n",
    "inputs,label = sm.fit_sample(new_data[['VL.t0' ,'CD4.t0' ,'rtlength' ,'pr_A' ,'pr_C' ,'pr_G' ,'pr_R' ,'pr_T' ,'pr_Y' ,'PR_GC','RT_A' ,'RT_C' ,'RT_G' ,'RT_R' ,'RT_T','RT_Y','RT_GC'\n",
    "]],new_data['Resp'])\n",
    "print(\"Original dataset: \",new_data['Resp'].value_counts())\n",
    "\n",
    "#the missing datas Are  deleted. Why?\n",
    "\n",
    "compt = 0\n",
    "for i in range(len(label)):\n",
    "    if label[i]==1:\n",
    "        compt += 1\n",
    "print(\"\\nNumber of 1 in the new  dataset: \",compt)\n"
   ]
  },
  {
   "cell_type": "code",
   "execution_count": 8,
   "metadata": {
    "collapsed": false
   },
   "outputs": [],
   "source": [
    "np.random.seed(90)\n",
    "input_train, input_test, label_input, label_test = train_test_split(inputs, label,random_state=5)"
   ]
  },
  {
   "cell_type": "markdown",
   "metadata": {},
   "source": [
    "# 1- k-Nearest Neighbors (k-NN) Algorithm"
   ]
  },
  {
   "cell_type": "code",
   "execution_count": 9,
   "metadata": {
    "collapsed": false
   },
   "outputs": [
    {
     "name": "stdout",
     "output_type": "stream",
     "text": [
      "k different averages: [0.7816567860604557, 0.7725736161515978, 0.7689287619562848, 0.7653334986362509, 0.7617051747326977, 0.7543411551668433, 0.7562168173177348, 0.7506796204043911, 0.7379020054249412, 0.7387945660422724, 0.7232893777847906, 0.718760754081855, 0.7123960657905611, 0.7033134969832218, 0.7043052393511109, 0.6978503106943472, 0.6933210858898933, 0.6924033541464734, 0.6951143971327457, 0.6969495600688261, 0.6914281420703439, 0.6860146969321281, 0.684146623687908, 0.6868822366987505, 0.6932710441884754, 0.6951474577162651, 0.6896512108438715, 0.6851221363147968, 0.6869321281247888, 0.6806423521102422, 0.6851800674736455, 0.6842791665727447, 0.6824524941956135, 0.6816011841699916, 0.6870725604670559, 0.6833864556800336, 0.6824940453380821]\n",
      "\n",
      "Max average, index of Max: 0.7816567860604557 || 0\n"
     ]
    }
   ],
   "source": [
    "np.random.seed(6)\n",
    "# search for an optimal value of K for KNN with cross validation\n",
    "# range of k we want to try\n",
    "k_range = range(2, 39)\n",
    "# empty list to store scores\n",
    "k_scores = []\n",
    "# 1. we will loop through reasonable values of k\n",
    "for k in k_range:\n",
    "    # 2. run KNeighborsClassifier with k neighbours\n",
    "    knn = KNeighborsClassifier(n_neighbors=k)\n",
    "    # 3. obtain cross_val_score for KNeighborsClassifier with k neighbours\n",
    "    scores = cross_val_score(knn, input_train, label_input, cv = 10, scoring='accuracy')\n",
    "    #scores = cross_val_score(knn, inputs, label, cv = 10, scoring='accuracy')\n",
    "    # 4. append mean of scores for k neighbors to k_scores list\n",
    "    k_scores.append(scores.mean())\n",
    "\n",
    "print(\"k different averages:\", k_scores)\n",
    "print(\"\\nMax average, index of Max:\", max(k_scores),\"||\", k_scores.index(max(k_scores)))\n",
    "pos = k_scores.index(max(k_scores))"
   ]
  },
  {
   "cell_type": "code",
   "execution_count": 10,
   "metadata": {
    "collapsed": false
   },
   "outputs": [
    {
     "data": {
      "text/plain": [
       "<matplotlib.text.Text at 0x7f66b6e88a20>"
      ]
     },
     "execution_count": 10,
     "metadata": {},
     "output_type": "execute_result"
    },
    {
     "data": {
      "image/png": "[encoded data removed]",
      "text/plain": [
       "<matplotlib.figure.Figure at 0x7f66bdbe2278>"
      ]
     },
     "metadata": {},
     "output_type": "display_data"
    }
   ],
   "source": [
    "# plot how accuracy changes as we vary k\n",
    "# plot the value of K for KNN (x-axis) versus the cross-validated accuracy (y-axis)\n",
    "# plt.plot(x_axis, y_axis)\n",
    "plt.plot(k_range, k_scores)\n",
    "plt.xlabel('Value of K for KNN')\n",
    "plt.ylabel('Cross-validated accuracy')"
   ]
  },
  {
   "cell_type": "code",
   "execution_count": 11,
   "metadata": {
    "collapsed": false
   },
   "outputs": [
    {
     "name": "stdout",
     "output_type": "stream",
     "text": [
      "\t %%% Now lets fit our model first and then we test with our test set %%%\n",
      "\n",
      " Training score:  0.8826205641492265\n",
      "\n",
      "The accuracy score that we get is:  0.7220708446866485\n",
      "\n",
      " Confusion Matrix:  [[111  66]\n",
      " [ 36 154]]\n"
     ]
    }
   ],
   "source": [
    "model = KNeighborsClassifier(3)\n",
    "print(\"\\t %%% Now lets fit our model first and then we test with our test set %%%\")\n",
    "model = model.fit(input_train,label_input)\n",
    "print(\"\\n Training score: \",model.score(input_train, label_input)) \n",
    "pred = model.predict(input_test)\n",
    "#score = metrics.accuracy_score(pred, label_test)\n",
    "score = model.score(input_test, label_test)\n",
    "print(\"\\nThe accuracy score that we get is: \",score)  \n",
    "print(\"\\n Confusion Matrix: \", confusion_matrix(label_test, pred))"
   ]
  },
  {
   "cell_type": "markdown",
   "metadata": {},
   "source": [
    "# 2 - Multi Layer Perceptron (MLP) Algorithm"
   ]
  },
  {
   "cell_type": "code",
   "execution_count": 12,
   "metadata": {
    "collapsed": false
   },
   "outputs": [
    {
     "name": "stdout",
     "output_type": "stream",
     "text": [
      "\t %%% Now lets fit our model first and then we test with our test set %%%\n",
      "\n",
      " Training score:  0.6424021838034577\n",
      "\n",
      "The accuracy score that we get is:  0.6430517711171662\n",
      "\n",
      " Confusion Matrix:  [[ 61 116]\n",
      " [ 15 175]]\n"
     ]
    }
   ],
   "source": [
    "from sklearn.neural_network import MLPClassifier\n",
    "clf = MLPClassifier(solver='lbfgs', alpha=1e-5,activation='relu',\n",
    "                    hidden_layer_sizes=(950,950,950,2),random_state =5)\n",
    "\n",
    "#print(\"\\t%%%%% The following results are the different accuracies that we get at each step of the CV %%%%%\")\n",
    "#acc = cross_val_score(clf, input_train, label_input, cv=10, scoring='accuracy')\n",
    "#print(\"\\nAccuracies: \",acc)\n",
    "#print(\"\\nMean accuracy: \", acc.mean() )\n",
    "print(\"\\t %%% Now lets fit our model first and then we test with our test set %%%\")\n",
    "clf = clf.fit(input_train,label_input)\n",
    "print(\"\\n Training score: \",clf.score(input_train, label_input)) #evaluating the training error\n",
    "pred = clf.predict(input_test)\n",
    "score = metrics.accuracy_score(pred, label_test)\n",
    "print(\"\\nThe accuracy score that we get is: \",score)\n",
    "print(\"\\n Confusion Matrix: \", confusion_matrix(label_test, pred))"
   ]
  },
  {
   "cell_type": "markdown",
   "metadata": {},
   "source": [
    "# 3 - Logistic Regression"
   ]
  },
  {
   "cell_type": "code",
   "execution_count": 13,
   "metadata": {
    "collapsed": false
   },
   "outputs": [
    {
     "name": "stdout",
     "output_type": "stream",
     "text": [
      "\n",
      "\t %%% Now lets fit our model first and then we test with our test set %%%\n",
      "\n",
      " Training score:  0.7443130118289354\n",
      "\n",
      "The accuracy score that we get is:  0.7193460490463215\n",
      "\n",
      " Confusion Matrix:  [[135  42]\n",
      " [ 61 129]]\n"
     ]
    },
    {
     "name": "stderr",
     "output_type": "stream",
     "text": [
      "/home/fadel/.local/lib/python3.5/site-packages/sklearn/linear_model/logistic.py:433: FutureWarning: Default solver will be changed to 'lbfgs' in 0.22. Specify a solver to silence this warning.\n",
      "  FutureWarning)\n"
     ]
    }
   ],
   "source": [
    "#with cross validation\n",
    "from sklearn.linear_model import LogisticRegression\n",
    "logReg = LogisticRegression()\n",
    "#print(\"\\t%%%%% The following results are the different accuracy that we get at each step of the CV %%%%%\")\n",
    "#acc = cross_val_score(logReg, input_train, label_input, cv=10, scoring='accuracy')\n",
    "#print(\"\\nAccuracies: \",acc)\n",
    "#print(\"\\nMean accuracy: \", acc.mean() )\n",
    "\n",
    "print(\"\\n\\t %%% Now lets fit our model first and then we test with our test set %%%\")\n",
    "logReg = logReg.fit(input_train,label_input)\n",
    "print(\"\\n Training score: \",logReg.score(input_train, label_input)) #evaluating the training error\n",
    "pred = logReg.predict(input_test)\n",
    "score = metrics.accuracy_score(pred, label_test)\n",
    "print(\"\\nThe accuracy score that we get is: \",score)\n",
    "print(\"\\n Confusion Matrix: \", confusion_matrix(label_test, pred))"
   ]
  },
  {
   "cell_type": "markdown",
   "metadata": {
    "collapsed": true
   },
   "source": [
    "# 4 - SGD Classifier"
   ]
  },
  {
   "cell_type": "code",
   "execution_count": 14,
   "metadata": {
    "collapsed": false
   },
   "outputs": [
    {
     "name": "stdout",
     "output_type": "stream",
     "text": [
      "\n",
      " Training score:  0.6469517743403094\n",
      "\n",
      "The accuracy score that we get is:  0.659400544959128\n",
      "\n",
      " Confusion Matrix:  [[ 98  79]\n",
      " [ 46 144]]\n"
     ]
    },
    {
     "name": "stderr",
     "output_type": "stream",
     "text": [
      "/home/fadel/.local/lib/python3.5/site-packages/sklearn/linear_model/stochastic_gradient.py:183: FutureWarning: max_iter and tol parameters have been added in SGDClassifier in 0.19. If max_iter is set but tol is left unset, the default value for tol in 0.19 and 0.20 will be None (which is equivalent to -infinity, so it has no effect) but will change in 0.21 to 1e-3. Specify tol to silence this warning.\n",
      "  FutureWarning)\n"
     ]
    }
   ],
   "source": [
    "from sklearn.linear_model import SGDClassifier\n",
    "sgdc = SGDClassifier(loss=\"hinge\", penalty=\"l2\", max_iter=25,random_state=5)\n",
    "sgdc = sgdc.fit(input_train, label_input)\n",
    "print(\"\\n Training score: \",sgdc.score(input_train, label_input)) #evaluating the training error\n",
    "pred = sgdc.predict(input_test)\n",
    "score = metrics.accuracy_score(pred,label_test)\n",
    "print(\"\\nThe accuracy score that we get is: \",score)\n",
    "print(\"\\n Confusion Matrix: \", confusion_matrix(label_test, pred))"
   ]
  },
  {
   "cell_type": "markdown",
   "metadata": {},
   "source": [
    "# 5- Decision Tree Classifier"
   ]
  },
  {
   "cell_type": "markdown",
   "metadata": {},
   "source": [
    "Decision Trees (DTs) are a non-parametric supervised learning method used for classification and regression. The goal is to create a model that predicts the value of a target variable by learning simple decision rules inferred from the data features."
   ]
  },
  {
   "cell_type": "code",
   "execution_count": 15,
   "metadata": {
    "collapsed": false
   },
   "outputs": [
    {
     "name": "stdout",
     "output_type": "stream",
     "text": [
      "\n",
      " Training score:  1.0\n",
      "\n",
      "The accuracy score that we get is:  0.782016348773842\n",
      "\n",
      " Confusion Matrix:  [[137  40]\n",
      " [ 40 150]]\n"
     ]
    }
   ],
   "source": [
    "from sklearn import tree\n",
    "dt = tree.DecisionTreeClassifier(random_state=5)\n",
    "dt = dt.fit(input_train, label_input)\n",
    "print(\"\\n Training score: \",dt.score(input_train, label_input)) #evaluating the training error\n",
    "pred = dt.predict(input_test)\n",
    "score = metrics.accuracy_score(pred,label_test)\n",
    "print(\"\\nThe accuracy score that we get is: \",score)\n",
    "print(\"\\n Confusion Matrix: \", confusion_matrix(label_test, pred))"
   ]
  },
  {
   "cell_type": "markdown",
   "metadata": {},
   "source": [
    "# 6- Gradient Boosting Classifier"
   ]
  },
  {
   "cell_type": "markdown",
   "metadata": {},
   "source": [
    "GB builds an additive model in a forward stage-wise fashion; it allows for the optimization of arbitrary differentiable loss functions. In each stage n_classes_ regression trees are fit on the negative gradient of the binomial or multinomial deviance loss function. Binary classification is a special case where only a single regression tree is induced."
   ]
  },
  {
   "cell_type": "code",
   "execution_count": 16,
   "metadata": {
    "collapsed": false
   },
   "outputs": [
    {
     "name": "stdout",
     "output_type": "stream",
     "text": [
      "\n",
      " Training score:  0.9426751592356688\n",
      "\n",
      "The accuracy score that we get is:  0.8119891008174387\n",
      "\n",
      " Confusion Matrix:  [[143  34]\n",
      " [ 35 155]]\n"
     ]
    }
   ],
   "source": [
    "from sklearn.ensemble import GradientBoostingClassifier\n",
    "GBC = GradientBoostingClassifier(random_state=5)\n",
    "GBC = GBC.fit(input_train, label_input)\n",
    "print(\"\\n Training score: \",GBC.score(input_train, label_input)) #evaluating the training error\n",
    "pred = GBC.predict(input_test)\n",
    "score = metrics.accuracy_score(pred,label_test)\n",
    "print(\"\\nThe accuracy score that we get is: \",score)\n",
    "print(\"\\n Confusion Matrix: \", confusion_matrix(label_test, pred))"
   ]
  },
  {
   "cell_type": "markdown",
   "metadata": {},
   "source": [
    "# 7- Ada Boost Classifier"
   ]
  },
  {
   "cell_type": "markdown",
   "metadata": {},
   "source": [
    "An AdaBoost classifier is a meta-estimator that begins by fitting a classifier on the original dataset and then fits additional copies of the classifier on the same dataset but where the weights of incorrectly classified instances are adjusted such that subsequent classifiers focus more on difficult cases."
   ]
  },
  {
   "cell_type": "code",
   "execution_count": 17,
   "metadata": {
    "collapsed": false
   },
   "outputs": [
    {
     "name": "stdout",
     "output_type": "stream",
     "text": [
      "\n",
      " Training score:  0.8644222020018199\n",
      "\n",
      "The accuracy score that we get is:  0.8310626702997275\n",
      "\n",
      " Confusion Matrix:  [[144  33]\n",
      " [ 29 161]]\n"
     ]
    }
   ],
   "source": [
    "from sklearn.ensemble import AdaBoostClassifier\n",
    "ABC = AdaBoostClassifier(random_state=5)\n",
    "ABC = ABC.fit(input_train, label_input)\n",
    "print(\"\\n Training score: \",ABC.score(input_train, label_input)) #evaluating the training error\n",
    "pred = ABC.predict(input_test)\n",
    "score = metrics.accuracy_score(pred,label_test)\n",
    "print(\"\\nThe accuracy score that we get is: \",score)\n",
    "print(\"\\n Confusion Matrix: \", confusion_matrix(label_test, pred))"
   ]
  },
  {
   "cell_type": "code",
   "execution_count": 18,
   "metadata": {
    "collapsed": true
   },
   "outputs": [],
   "source": [
    "AdaBoostClassifier??"
   ]
  },
  {
   "cell_type": "markdown",
   "metadata": {},
   "source": [
    "# 8- Dummy Classifier"
   ]
  },
  {
   "cell_type": "markdown",
   "metadata": {},
   "source": [
    "DummyClassifier is a classifier that makes predictions using simple rules.\n",
    "This classifier is useful as a simple baseline to compare with other\n",
    "(real) classifiers. Do not use it for real problems."
   ]
  },
  {
   "cell_type": "code",
   "execution_count": 19,
   "metadata": {
    "collapsed": false
   },
   "outputs": [
    {
     "name": "stdout",
     "output_type": "stream",
     "text": [
      "\n",
      " Training score:  0.4986351228389445\n",
      "\n",
      "The accuracy score that we get is:  0.4904632152588556\n",
      "\n",
      " Confusion Matrix:  [[85 92]\n",
      " [95 95]]\n"
     ]
    }
   ],
   "source": [
    "from sklearn.dummy import DummyClassifier\n",
    "dc = DummyClassifier(strategy=\"uniform\",random_state=5)\n",
    "dc = dc.fit(input_train, label_input)\n",
    "print(\"\\n Training score: \",dc.score(input_train, label_input)) #evaluating the training error\n",
    "pred = dc.predict(input_test)\n",
    "score = metrics.accuracy_score(pred,label_test)\n",
    "print(\"\\nThe accuracy score that we get is: \",score)\n",
    "print(\"\\n Confusion Matrix: \", confusion_matrix(label_test, pred))\n"
   ]
  },
  {
   "cell_type": "markdown",
   "metadata": {},
   "source": [
    "# 9 - Random Forest Classifier"
   ]
  },
  {
   "cell_type": "markdown",
   "metadata": {},
   "source": [
    "A random forest is a meta estimator that fits a number of decision tree classifiers on various sub-samples of the dataset and uses averaging to improve the predictive accuracy and control over-fitting. The sub-sample size is always the same as the original input sample size but the samples are drawn with replacement if bootstrap=True (default)."
   ]
  },
  {
   "cell_type": "code",
   "execution_count": 20,
   "metadata": {
    "collapsed": false
   },
   "outputs": [
    {
     "name": "stdout",
     "output_type": "stream",
     "text": [
      "\n",
      " Training score:  0.9827115559599636\n",
      "\n",
      "The accuracy score that we get is:  0.8310626702997275\n",
      "\n",
      " Confusion Matrix:  [[150  27]\n",
      " [ 35 155]]\n"
     ]
    },
    {
     "name": "stderr",
     "output_type": "stream",
     "text": [
      "/home/fadel/.local/lib/python3.5/site-packages/sklearn/ensemble/forest.py:246: FutureWarning: The default value of n_estimators will change from 10 in version 0.20 to 100 in 0.22.\n",
      "  \"10 in version 0.20 to 100 in 0.22.\", FutureWarning)\n"
     ]
    }
   ],
   "source": [
    "from sklearn.ensemble import RandomForestClassifier\n",
    "RF = RandomForestClassifier(max_depth=11, random_state=5)\n",
    "RF = RF.fit(input_train, label_input)\n",
    "print(\"\\n Training score: \",RF.score(input_train, label_input)) #evaluating the training error\n",
    "pred = RF.predict(input_test)\n",
    "score = metrics.accuracy_score(pred,label_test)\n",
    "print(\"\\nThe accuracy score that we get is: \",score)\n",
    "print(\"\\n Confusion Matrix: \", confusion_matrix(label_test, pred))"
   ]
  },
  {
   "cell_type": "markdown",
   "metadata": {},
   "source": [
    "# 10- Extra trees Classifier"
   ]
  },
  {
   "cell_type": "markdown",
   "metadata": {},
   "source": [
    "This class implements a meta estimator that fits a number of randomized decision trees (a.k.a. extra-trees) on various sub-samples of the dataset and uses averaging to improve the predictive accuracy and control over-fitting."
   ]
  },
  {
   "cell_type": "code",
   "execution_count": 21,
   "metadata": {
    "collapsed": false
   },
   "outputs": [
    {
     "name": "stdout",
     "output_type": "stream",
     "text": [
      "\n",
      " Training score:  1.0\n",
      "\n",
      "The accuracy score that we get is:  0.8719346049046321\n",
      "\n",
      " Confusion Matrix:  [[153  24]\n",
      " [ 23 167]]\n"
     ]
    },
    {
     "name": "stderr",
     "output_type": "stream",
     "text": [
      "/home/fadel/.local/lib/python3.5/site-packages/sklearn/ensemble/forest.py:246: FutureWarning: The default value of n_estimators will change from 10 in version 0.20 to 100 in 0.22.\n",
      "  \"10 in version 0.20 to 100 in 0.22.\", FutureWarning)\n"
     ]
    }
   ],
   "source": [
    "from sklearn.ensemble import ExtraTreesClassifier\n",
    "ETC = ExtraTreesClassifier(random_state=5)\n",
    "ETC = ETC.fit(input_train, label_input)\n",
    "print(\"\\n Training score: \",ETC.score(input_train, label_input)) #evaluating the training error\n",
    "pred = ETC.predict(input_test)\n",
    "score = metrics.accuracy_score(pred,label_test)\n",
    "print(\"\\nThe accuracy score that we get is: \",score)\n",
    "print(\"\\n Confusion Matrix: \", confusion_matrix(label_test, pred))"
   ]
  },
  {
   "cell_type": "code",
   "execution_count": null,
   "metadata": {
    "collapsed": true
   },
   "outputs": [],
   "source": []
  }
 ],
 "metadata": {
  "kernelspec": {
   "display_name": "Python 3",
   "language": "python",
   "name": "python3"
  },
  "language_info": {
   "codemirror_mode": {
    "name": "ipython",
    "version": 3
   },
   "file_extension": ".py",
   "mimetype": "text/x-python",
   "name": "python",
   "nbconvert_exporter": "python",
   "pygments_lexer": "ipython3",
   "version": "3.5.3"
  }
 },
 "nbformat": 4,
 "nbformat_minor": 2
}
