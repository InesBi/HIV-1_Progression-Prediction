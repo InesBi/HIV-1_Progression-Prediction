{
 "cells": [
  {
   "cell_type": "code",
   "execution_count": 1,
   "metadata": {
    "collapsed": false
   },
   "outputs": [
    {
     "data": {
      "text/html": [
       "<script type=\"text/javascript\">window.PlotlyConfig = {MathJaxConfig: 'local'};</script><script type=\"text/javascript\">if (window.MathJax) {MathJax.Hub.Config({SVG: {font: \"STIX-Web\"}});}</script><script>requirejs.config({paths: { 'plotly': ['https://cdn.plot.ly/plotly-latest.min']},});if(!window._Plotly) {require(['plotly'],function(plotly) {window._Plotly=plotly;});}</script>"
      ],
      "text/vnd.plotly.v1+html": [
       "<script type=\"text/javascript\">window.PlotlyConfig = {MathJaxConfig: 'local'};</script><script type=\"text/javascript\">if (window.MathJax) {MathJax.Hub.Config({SVG: {font: \"STIX-Web\"}});}</script><script>requirejs.config({paths: { 'plotly': ['https://cdn.plot.ly/plotly-latest.min']},});if(!window._Plotly) {require(['plotly'],function(plotly) {window._Plotly=plotly;});}</script>"
      ]
     },
     "metadata": {},
     "output_type": "display_data"
    }
   ],
   "source": [
    "############### Libraries #####################################\n",
    "import seaborn as sns\n",
    "import numpy as np\n",
    "import pandas as pd\n",
    "##############\n",
    "import skbio\n",
    "\n",
    "from collections import Counter\n",
    "import imblearn\n",
    "from imblearn.pipeline import Pipeline\n",
    "from imblearn.over_sampling import SMOTE\n",
    "\n",
    "from xgboost import XGBClassifier\n",
    "\n",
    "from kpal.klib import Profile\n",
    "\n",
    "######################\n",
    "import skbio\n",
    "from skbio.alignment import AlignmentStructure\n",
    "from skbio.alignment import local_pairwise_align\n",
    "\n",
    "import Bio\n",
    "from Bio import Align \n",
    "from Bio import pairwise2\n",
    "from Bio.SeqUtils.ProtParam import ProteinAnalysis\n",
    "#import warnings\n",
    "####################\n",
    "import sklearn\n",
    "from sklearn.neighbors import KNeighborsClassifier\n",
    "from sklearn.cluster import KMeans\n",
    "from sklearn import svm\n",
    "\n",
    "from sklearn import metrics\n",
    "from sklearn.decomposition import PCA\n",
    "from sklearn import manifold\n",
    "\n",
    "from sklearn.model_selection import train_test_split\n",
    "\n",
    "from sklearn.utils.fixes import signature\n",
    "\n",
    "################ decision boundary, libraries #########\n",
    "\n",
    "from matplotlib.colors import ListedColormap\n",
    "\n",
    "\n",
    "import plotly.offline as py\n",
    "py.init_notebook_mode(connected=True)\n",
    "import plotly.graph_objs as go\n",
    "from plotly import tools\n",
    "\n",
    "from sklearn.preprocessing import StandardScaler\n",
    "from sklearn.svm import SVC\n",
    "from sklearn.model_selection import train_test_split\n",
    "from sklearn.preprocessing import StandardScaler\n",
    "from sklearn.datasets import make_moons, make_circles, make_classification, make_blobs, make_checkerboard\n",
    "\n",
    "from sklearn.svm import SVC\n",
    "from sklearn.tree import DecisionTreeClassifier\n",
    "from sklearn.ensemble import (RandomForestClassifier, AdaBoostClassifier)#, \n",
    "                              #ExtraTreesClassifier, GradientBoostingClassifier, BaggingClassifier)\n",
    "from sklearn.naive_bayes import GaussianNB\n",
    "from sklearn.linear_model import LogisticRegression\n",
    "\n",
    "##########################\n",
    "import matplotlib.pyplot as plt\n",
    "\n",
    "%matplotlib inline"
   ]
  },
  {
   "cell_type": "markdown",
   "metadata": {},
   "source": [
    "# Load data"
   ]
  },
  {
   "cell_type": "code",
   "execution_count": 2,
   "metadata": {
    "collapsed": false
   },
   "outputs": [
    {
     "data": {
      "text/html": [
       "<div>\n",
       "<style scoped>\n",
       "    .dataframe tbody tr th:only-of-type {\n",
       "        vertical-align: middle;\n",
       "    }\n",
       "\n",
       "    .dataframe tbody tr th {\n",
       "        vertical-align: top;\n",
       "    }\n",
       "\n",
       "    .dataframe thead th {\n",
       "        text-align: right;\n",
       "    }\n",
       "</style>\n",
       "<table border=\"1\" class=\"dataframe\">\n",
       "  <thead>\n",
       "    <tr style=\"text-align: right;\">\n",
       "      <th></th>\n",
       "      <th>Unnamed: 0</th>\n",
       "      <th>Resp</th>\n",
       "      <th>VL.t0</th>\n",
       "      <th>CD4.t0</th>\n",
       "      <th>rtlength</th>\n",
       "      <th>pr_A</th>\n",
       "      <th>pr_C</th>\n",
       "      <th>pr_G</th>\n",
       "      <th>pr_R</th>\n",
       "      <th>pr_T</th>\n",
       "      <th>pr_Y</th>\n",
       "      <th>PR_GC</th>\n",
       "      <th>RT_A</th>\n",
       "      <th>RT_C</th>\n",
       "      <th>RT_G</th>\n",
       "      <th>RT_R</th>\n",
       "      <th>RT_T</th>\n",
       "      <th>RT_Y</th>\n",
       "      <th>RT_GC</th>\n",
       "    </tr>\n",
       "  </thead>\n",
       "  <tbody>\n",
       "    <tr>\n",
       "      <th>0</th>\n",
       "      <td>1</td>\n",
       "      <td>0</td>\n",
       "      <td>4.3</td>\n",
       "      <td>145</td>\n",
       "      <td>1005</td>\n",
       "      <td>104</td>\n",
       "      <td>51</td>\n",
       "      <td>67</td>\n",
       "      <td>2</td>\n",
       "      <td>71</td>\n",
       "      <td>2</td>\n",
       "      <td>0.402730</td>\n",
       "      <td>402</td>\n",
       "      <td>167</td>\n",
       "      <td>210</td>\n",
       "      <td>1</td>\n",
       "      <td>1</td>\n",
       "      <td>1</td>\n",
       "      <td>0.378134</td>\n",
       "    </tr>\n",
       "    <tr>\n",
       "      <th>1</th>\n",
       "      <td>2</td>\n",
       "      <td>0</td>\n",
       "      <td>3.6</td>\n",
       "      <td>224</td>\n",
       "      <td>909</td>\n",
       "      <td>110</td>\n",
       "      <td>49</td>\n",
       "      <td>65</td>\n",
       "      <td>73</td>\n",
       "      <td>0</td>\n",
       "      <td>0</td>\n",
       "      <td>0.383838</td>\n",
       "      <td>355</td>\n",
       "      <td>151</td>\n",
       "      <td>193</td>\n",
       "      <td>1</td>\n",
       "      <td>3</td>\n",
       "      <td>203</td>\n",
       "      <td>0.381375</td>\n",
       "    </tr>\n",
       "    <tr>\n",
       "      <th>2</th>\n",
       "      <td>3</td>\n",
       "      <td>0</td>\n",
       "      <td>3.2</td>\n",
       "      <td>1017</td>\n",
       "      <td>903</td>\n",
       "      <td>105</td>\n",
       "      <td>47</td>\n",
       "      <td>67</td>\n",
       "      <td>2</td>\n",
       "      <td>74</td>\n",
       "      <td>2</td>\n",
       "      <td>0.389078</td>\n",
       "      <td>360</td>\n",
       "      <td>146</td>\n",
       "      <td>181</td>\n",
       "      <td>1</td>\n",
       "      <td>7</td>\n",
       "      <td>201</td>\n",
       "      <td>0.368243</td>\n",
       "    </tr>\n",
       "    <tr>\n",
       "      <th>3</th>\n",
       "      <td>4</td>\n",
       "      <td>0</td>\n",
       "      <td>5.7</td>\n",
       "      <td>206</td>\n",
       "      <td>1455</td>\n",
       "      <td>105</td>\n",
       "      <td>49</td>\n",
       "      <td>71</td>\n",
       "      <td>1</td>\n",
       "      <td>71</td>\n",
       "      <td>0</td>\n",
       "      <td>0.405405</td>\n",
       "      <td>586</td>\n",
       "      <td>245</td>\n",
       "      <td>305</td>\n",
       "      <td>1</td>\n",
       "      <td>1</td>\n",
       "      <td>317</td>\n",
       "      <td>0.378527</td>\n",
       "    </tr>\n",
       "    <tr>\n",
       "      <th>4</th>\n",
       "      <td>5</td>\n",
       "      <td>0</td>\n",
       "      <td>3.5</td>\n",
       "      <td>572</td>\n",
       "      <td>903</td>\n",
       "      <td>105</td>\n",
       "      <td>50</td>\n",
       "      <td>69</td>\n",
       "      <td>73</td>\n",
       "      <td>0</td>\n",
       "      <td>0</td>\n",
       "      <td>0.400673</td>\n",
       "      <td>353</td>\n",
       "      <td>150</td>\n",
       "      <td>184</td>\n",
       "      <td>2</td>\n",
       "      <td>5</td>\n",
       "      <td>1</td>\n",
       "      <td>0.374439</td>\n",
       "    </tr>\n",
       "  </tbody>\n",
       "</table>\n",
       "</div>"
      ],
      "text/plain": [
       "   Unnamed: 0  Resp  VL.t0  CD4.t0  rtlength  pr_A  pr_C  pr_G  pr_R  pr_T  \\\n",
       "0           1     0    4.3     145      1005   104    51    67     2    71   \n",
       "1           2     0    3.6     224       909   110    49    65    73     0   \n",
       "2           3     0    3.2    1017       903   105    47    67     2    74   \n",
       "3           4     0    5.7     206      1455   105    49    71     1    71   \n",
       "4           5     0    3.5     572       903   105    50    69    73     0   \n",
       "\n",
       "   pr_Y     PR_GC  RT_A  RT_C  RT_G  RT_R  RT_T  RT_Y     RT_GC  \n",
       "0     2  0.402730   402   167   210     1     1     1  0.378134  \n",
       "1     0  0.383838   355   151   193     1     3   203  0.381375  \n",
       "2     2  0.389078   360   146   181     1     7   201  0.368243  \n",
       "3     0  0.405405   586   245   305     1     1   317  0.378527  \n",
       "4     0  0.400673   353   150   184     2     5     1  0.374439  "
      ]
     },
     "execution_count": 2,
     "metadata": {},
     "output_type": "execute_result"
    }
   ],
   "source": [
    "##### load training dataset ######\n",
    "data =  pd.read_csv('dataraning_new_data.csv', delimiter=',') #('training_data.csv', delimiter=',')\n",
    "data.head()"
   ]
  },
  {
   "cell_type": "code",
   "execution_count": 3,
   "metadata": {
    "collapsed": false,
    "scrolled": true
   },
   "outputs": [
    {
     "data": {
      "text/plain": [
       "0"
      ]
     },
     "execution_count": 3,
     "metadata": {},
     "output_type": "execute_result"
    }
   ],
   "source": [
    "####### Number of missing data ########\n",
    "nb_missing = data.isnull().sum().sum()\n",
    "nb_missing"
   ]
  },
  {
   "cell_type": "code",
   "execution_count": 4,
   "metadata": {
    "collapsed": false
   },
   "outputs": [
    {
     "data": {
      "text/plain": [
       "Unnamed: 0    0\n",
       "Resp          0\n",
       "VL.t0         0\n",
       "CD4.t0        0\n",
       "rtlength      0\n",
       "pr_A          0\n",
       "pr_C          0\n",
       "pr_G          0\n",
       "pr_R          0\n",
       "pr_T          0\n",
       "pr_Y          0\n",
       "PR_GC         0\n",
       "RT_A          0\n",
       "RT_C          0\n",
       "RT_G          0\n",
       "RT_R          0\n",
       "RT_T          0\n",
       "RT_Y          0\n",
       "RT_GC         0\n",
       "dtype: int64"
      ]
     },
     "execution_count": 4,
     "metadata": {},
     "output_type": "execute_result"
    }
   ],
   "source": [
    "#### Check where we have (or which feature(s) have ) missing data\n",
    "data.isnull().sum()\n"
   ]
  },
  {
   "cell_type": "code",
   "execution_count": 5,
   "metadata": {
    "collapsed": false
   },
   "outputs": [
    {
     "data": {
      "text/plain": [
       "Text(0.5, 0, 'improve 1 or not 0')"
      ]
     },
     "execution_count": 5,
     "metadata": {},
     "output_type": "execute_result"
    },
    {
     "data": {
      "image/png": "[encoded data removed]",
      "text/plain": [
       "<Figure size 432x288 with 1 Axes>"
      ]
     },
     "metadata": {},
     "output_type": "display_data"
    }
   ],
   "source": [
    "##############  Histogram of improving '1' of responds after 16 weeks of therapy #################\n",
    "data['Resp'].hist()\n",
    "plt.ylabel(\"nb patient\")\n",
    "plt.xlabel(\"improve 1 or not 0\")\n",
    "\n",
    "# We have imbalanced data"
   ]
  },
  {
   "cell_type": "markdown",
   "metadata": {},
   "source": [
    "# Pre-Processing"
   ]
  },
  {
   "cell_type": "markdown",
   "metadata": {},
   "source": [
    "### 1) Imbalanced data: solution"
   ]
  },
  {
   "cell_type": "markdown",
   "metadata": {},
   "source": [
    "#### 1.1) With SMOTE"
   ]
  },
  {
   "cell_type": "code",
   "execution_count": 6,
   "metadata": {
    "collapsed": true
   },
   "outputs": [],
   "source": [
    "data_X = data[['VL.t0','CD4.t0', 'rtlength', 'pr_A', 'pr_C','pr_G', 'pr_R', 'pr_T','pr_Y','PR_GC','RT_A', 'RT_C', \n",
    "                  'RT_G', 'RT_R', 'RT_T', 'RT_Y', 'RT_GC']]\n",
    "# data_X = data[['VL-t0', 'CD4-t0']]"
   ]
  },
  {
   "cell_type": "code",
   "execution_count": 7,
   "metadata": {
    "collapsed": true
   },
   "outputs": [],
   "source": [
    "sm = imblearn.over_sampling.SMOTE( sampling_strategy='auto', kind='regular', random_state=0 )\n",
    "X_resampled1 , y_resampled1 = sm.fit_sample(data_X, data['Resp'])"
   ]
  },
  {
   "cell_type": "code",
   "execution_count": 8,
   "metadata": {
    "collapsed": false
   },
   "outputs": [
    {
     "name": "stdout",
     "output_type": "stream",
     "text": [
      "Original dataset shape: Counter({0: 733, 1: 187})\n",
      "Resampled dataset shape: Counter({0: 733, 1: 733})\n"
     ]
    }
   ],
   "source": [
    "print('Original dataset shape:', Counter(data['Resp']))\n",
    "print('Resampled dataset shape:', Counter(y_resampled1))"
   ]
  },
  {
   "cell_type": "code",
   "execution_count": 9,
   "metadata": {
    "collapsed": false,
    "scrolled": false
   },
   "outputs": [
    {
     "data": {
      "text/plain": [
       "Text(0.5, 1.0, 'VL-t0 histogram')"
      ]
     },
     "execution_count": 9,
     "metadata": {},
     "output_type": "execute_result"
    },
    {
     "data": {
      "image/png": "[encoded data removed]",
      "text/plain": [
       "<Figure size 432x288 with 1 Axes>"
      ]
     },
     "metadata": {},
     "output_type": "display_data"
    }
   ],
   "source": [
    "plt.hist(X_resampled1[:,0])\n",
    "plt.title('VL-t0 histogram')"
   ]
  },
  {
   "cell_type": "code",
   "execution_count": 10,
   "metadata": {
    "collapsed": false
   },
   "outputs": [
    {
     "data": {
      "text/plain": [
       "Text(0.5, 1.0, 'CD4-t0 histogram')"
      ]
     },
     "execution_count": 10,
     "metadata": {},
     "output_type": "execute_result"
    },
    {
     "data": {
      "image/png": "[encoded data removed]",
      "text/plain": [
       "<Figure size 432x288 with 1 Axes>"
      ]
     },
     "metadata": {},
     "output_type": "display_data"
    }
   ],
   "source": [
    "plt.hist(X_resampled1[:,1])\n",
    "plt.title('CD4-t0 histogram')"
   ]
  },
  {
   "cell_type": "markdown",
   "metadata": {},
   "source": [
    "#### 1.2) With SMOTENC (for sequence)"
   ]
  },
  {
   "cell_type": "code",
   "execution_count": 11,
   "metadata": {
    "collapsed": false
   },
   "outputs": [],
   "source": [
    "#cat_feats = [2,3]\n",
    "#sm_enc = imblearn.over_sampling.SMOTENC(cat_feats, sampling_strategy='auto')\n",
    "#X_resampled , y_resampled = sm_enc.fit_sample(data, data['Resp'])"
   ]
  },
  {
   "cell_type": "code",
   "execution_count": 12,
   "metadata": {
    "collapsed": true
   },
   "outputs": [],
   "source": [
    "#print('Original dataset shape:', Counter(data['Resp']))\n",
    "#print('Resampled dataset shape:', Counter(y_resampled))"
   ]
  },
  {
   "cell_type": "code",
   "execution_count": 13,
   "metadata": {
    "collapsed": true
   },
   "outputs": [],
   "source": [
    "#plt.hist(X_resampled[:,0])"
   ]
  },
  {
   "cell_type": "code",
   "execution_count": null,
   "metadata": {
    "collapsed": true
   },
   "outputs": [],
   "source": []
  },
  {
   "cell_type": "markdown",
   "metadata": {},
   "source": [
    "# I) Isomap Transformation"
   ]
  },
  {
   "cell_type": "code",
   "execution_count": 14,
   "metadata": {
    "collapsed": true
   },
   "outputs": [],
   "source": [
    "np.random.seed(5)"
   ]
  },
  {
   "cell_type": "code",
   "execution_count": 15,
   "metadata": {
    "collapsed": false,
    "scrolled": true
   },
   "outputs": [],
   "source": [
    "manifold_isomap = manifold.Isomap(n_neighbors=5, n_components=12, tol=0, max_iter=150, n_jobs=7)\n",
    "#X_resampled1_isomap = manifold_isomap.fit_transform(X_resampled1)\n",
    "\n",
    "#Isomap(n_neighbors=5, n_components=2, eigen_solver=’auto’, tol=0, max_iter=None, path_method=’auto’, \n",
    "#        neighbors_algorithm=’auto’, n_jobs=None)"
   ]
  },
  {
   "cell_type": "code",
   "execution_count": null,
   "metadata": {
    "collapsed": false
   },
   "outputs": [],
   "source": []
  },
  {
   "cell_type": "markdown",
   "metadata": {},
   "source": [
    "## Split Data"
   ]
  },
  {
   "cell_type": "code",
   "execution_count": 16,
   "metadata": {
    "collapsed": false
   },
   "outputs": [],
   "source": [
    "X_train, X_test, y_train, y_test = train_test_split(X_resampled1, y_resampled1, test_size=.1, random_state =0)"
   ]
  },
  {
   "cell_type": "code",
   "execution_count": null,
   "metadata": {
    "collapsed": true
   },
   "outputs": [],
   "source": []
  },
  {
   "cell_type": "markdown",
   "metadata": {},
   "source": [
    "## Transform"
   ]
  },
  {
   "cell_type": "code",
   "execution_count": 17,
   "metadata": {
    "collapsed": true
   },
   "outputs": [],
   "source": [
    "X_train = manifold_isomap.fit_transform(X_train)\n",
    "X_test = manifold_isomap.transform(X_test)"
   ]
  },
  {
   "cell_type": "code",
   "execution_count": null,
   "metadata": {
    "collapsed": true
   },
   "outputs": [],
   "source": []
  },
  {
   "cell_type": "markdown",
   "metadata": {},
   "source": [
    "## I.1) K-Nearest-Neighbors (KNN) Algorithm"
   ]
  },
  {
   "cell_type": "code",
   "execution_count": 18,
   "metadata": {
    "collapsed": false
   },
   "outputs": [
    {
     "data": {
      "text/plain": [
       "KNeighborsClassifier(algorithm='auto', leaf_size=30, metric='minkowski',\n",
       "           metric_params=None, n_jobs=2, n_neighbors=5, p=1,\n",
       "           weights='uniform')"
      ]
     },
     "execution_count": 18,
     "metadata": {},
     "output_type": "execute_result"
    }
   ],
   "source": [
    "# Clustering  with KNN classifier\n",
    "modelknn = KNeighborsClassifier(n_neighbors=5, p=1, n_jobs=2)\n",
    "modelknn.fit(X_train, y_train)"
   ]
  },
  {
   "cell_type": "code",
   "execution_count": 19,
   "metadata": {
    "collapsed": false
   },
   "outputs": [
    {
     "name": "stdout",
     "output_type": "stream",
     "text": [
      "[0.70833333 0.74621212 0.72727273 0.75378788 0.72623574]\n",
      "0.7323683604101855\n"
     ]
    }
   ],
   "source": [
    "knn_accur = sklearn.model_selection.cross_val_score(modelknn, \n",
    "                                        X_train, y_train, \n",
    "                                        scoring='accuracy',cv=5)\n",
    "print(knn_accur)\n",
    "print(knn_accur.mean())"
   ]
  },
  {
   "cell_type": "code",
   "execution_count": 20,
   "metadata": {
    "collapsed": true
   },
   "outputs": [],
   "source": [
    "modelknn_predict = modelknn.predict(X_test)"
   ]
  },
  {
   "cell_type": "code",
   "execution_count": 21,
   "metadata": {
    "collapsed": false,
    "scrolled": true
   },
   "outputs": [
    {
     "name": "stdout",
     "output_type": "stream",
     "text": [
      "0.7551020408163265\n"
     ]
    }
   ],
   "source": [
    "knn_accur_pred = metrics.accuracy_score(y_test, modelknn_predict)\n",
    "print(knn_accur_pred)"
   ]
  },
  {
   "cell_type": "code",
   "execution_count": 22,
   "metadata": {
    "collapsed": false
   },
   "outputs": [
    {
     "name": "stdout",
     "output_type": "stream",
     "text": [
      "%%%%%%%%% Confusion Matrix: KNN %%%%%%%%%\n",
      "\n",
      "[[56 22]\n",
      " [14 55]]\n"
     ]
    }
   ],
   "source": [
    "##### confusion matrix ######\n",
    "conf_mat_knn = metrics.confusion_matrix(y_true=y_test , y_pred=modelknn_predict)\n",
    "print('%%%%%%%%% Confusion Matrix: KNN %%%%%%%%%\\n')\n",
    "print(conf_mat_knn)\n"
   ]
  },
  {
   "cell_type": "code",
   "execution_count": 23,
   "metadata": {
    "collapsed": false
   },
   "outputs": [
    {
     "name": "stdout",
     "output_type": "stream",
     "text": [
      "%%%%%%%%%%%%%% Classification Report: KNN %%%%%%%%%%%%% \n",
      "\n",
      "              precision    recall  f1-score   support\n",
      "\n",
      "           0       0.80      0.72      0.76        78\n",
      "           1       0.71      0.80      0.75        69\n",
      "\n",
      "   micro avg       0.76      0.76      0.76       147\n",
      "   macro avg       0.76      0.76      0.76       147\n",
      "weighted avg       0.76      0.76      0.76       147\n",
      "\n"
     ]
    }
   ],
   "source": [
    "########## Classification Report ################\n",
    "print('%%%%%%%%%%%%%% Classification Report: KNN %%%%%%%%%%%%% \\n') \n",
    "print(metrics.classification_report(y_test, modelknn_predict))"
   ]
  },
  {
   "cell_type": "code",
   "execution_count": null,
   "metadata": {
    "collapsed": true
   },
   "outputs": [],
   "source": []
  },
  {
   "cell_type": "markdown",
   "metadata": {},
   "source": [
    "#### Confusion Matrix"
   ]
  },
  {
   "cell_type": "code",
   "execution_count": 24,
   "metadata": {
    "collapsed": false,
    "scrolled": true
   },
   "outputs": [
    {
     "name": "stdout",
     "output_type": "stream",
     "text": [
      "Confusion Matrix KNN: \n",
      " [[56 22]\n",
      " [14 55]]\n"
     ]
    }
   ],
   "source": [
    "##### confusion matrix ######\n",
    "conf_mat_knn = metrics.confusion_matrix(y_true=y_test , y_pred=modelknn_predict)\n",
    "print('Confusion Matrix KNN: \\n', conf_mat_knn)"
   ]
  },
  {
   "cell_type": "code",
   "execution_count": 25,
   "metadata": {
    "collapsed": false
   },
   "outputs": [
    {
     "name": "stdout",
     "output_type": "stream",
     "text": [
      "Average precision-recall score: 0.66\n"
     ]
    }
   ],
   "source": [
    "#from sklearn.metrics import average_precision_score\n",
    "average_precision_knn = metrics.average_precision_score(y_test, modelknn_predict)\n",
    "\n",
    "print('Average precision-recall score: {0:0.2f}'.format(\n",
    "      average_precision_knn))"
   ]
  },
  {
   "cell_type": "code",
   "execution_count": 26,
   "metadata": {
    "collapsed": false,
    "scrolled": true
   },
   "outputs": [
    {
     "data": {
      "text/plain": [
       "Text(0.5, 1.0, '2-class Precision-Recall curve: AP=0.66')"
      ]
     },
     "execution_count": 26,
     "metadata": {},
     "output_type": "execute_result"
    },
    {
     "data": {
      "image/png": "[encoded data removed]",
      "text/plain": [
       "<Figure size 432x288 with 1 Axes>"
      ]
     },
     "metadata": {},
     "output_type": "display_data"
    }
   ],
   "source": [
    "#from sklearn.metrics import precision_recall_curve\n",
    "#import matplotlib.pyplot as plt\n",
    "\n",
    "\n",
    "precision_knn, recall_knn, _ = metrics.precision_recall_curve(y_test, modelknn_predict)\n",
    "\n",
    "# In matplotlib < 1.5, plt.fill_between does not have a 'step' argument\n",
    "step_kwargs = ({'step': 'post'}\n",
    "               if 'step' in signature(plt.fill_between).parameters\n",
    "               else {})\n",
    "plt.step(recall_knn, precision_knn, color='b', alpha=0.2,\n",
    "         where='post')\n",
    "plt.fill_between(recall_knn, precision_knn, alpha=0.2, color='b', **step_kwargs)\n",
    "\n",
    "plt.xlabel('Recall KNN')\n",
    "plt.ylabel('Precision KNN')\n",
    "plt.ylim([0.0, 1.05])\n",
    "plt.xlim([0.0, 1.0])\n",
    "plt.title('2-class Precision-Recall curve: AP={0:0.2f}'.format(\n",
    "          average_precision_knn))"
   ]
  },
  {
   "cell_type": "code",
   "execution_count": 27,
   "metadata": {
    "collapsed": false
   },
   "outputs": [
    {
     "name": "stdout",
     "output_type": "stream",
     "text": [
      "[1.         0.79710145 0.        ]\n"
     ]
    }
   ],
   "source": [
    "print(recall_knn)"
   ]
  },
  {
   "cell_type": "markdown",
   "metadata": {},
   "source": [
    "## I.2) Random Forest Classifier"
   ]
  },
  {
   "cell_type": "code",
   "execution_count": 28,
   "metadata": {
    "collapsed": false
   },
   "outputs": [
    {
     "data": {
      "text/plain": [
       "RandomForestClassifier(bootstrap=True, class_weight='balanced',\n",
       "            criterion='entropy', max_depth=5, max_features='auto',\n",
       "            max_leaf_nodes=None, min_impurity_decrease=0.0,\n",
       "            min_impurity_split=None, min_samples_leaf=1,\n",
       "            min_samples_split=2, min_weight_fraction_leaf=0.0,\n",
       "            n_estimators=100, n_jobs=None, oob_score=False,\n",
       "            random_state=None, verbose=0, warm_start=False)"
      ]
     },
     "execution_count": 28,
     "metadata": {},
     "output_type": "execute_result"
    }
   ],
   "source": [
    "model_RandForest = RandomForestClassifier(bootstrap=True, max_depth=5, n_estimators=100, criterion=\"entropy\",\n",
    "                                          max_features='auto', class_weight=\"balanced\")\n",
    "model_RandForest.fit(X_train, y_train)"
   ]
  },
  {
   "cell_type": "code",
   "execution_count": 29,
   "metadata": {
    "collapsed": true
   },
   "outputs": [],
   "source": [
    "model_RandForest_accur = sklearn.model_selection.cross_val_score(model_RandForest, \n",
    "                                        X_train, y_train, \n",
    "                                        scoring='accuracy',cv=3)"
   ]
  },
  {
   "cell_type": "code",
   "execution_count": 30,
   "metadata": {
    "collapsed": false,
    "scrolled": true
   },
   "outputs": [
    {
     "name": "stdout",
     "output_type": "stream",
     "text": [
      "[0.73469388 0.74715262 0.70842825]\n",
      "0.730091581051555\n"
     ]
    }
   ],
   "source": [
    "print(model_RandForest_accur)\n",
    "print(model_RandForest_accur.mean())"
   ]
  },
  {
   "cell_type": "code",
   "execution_count": 31,
   "metadata": {
    "collapsed": false,
    "scrolled": true
   },
   "outputs": [
    {
     "name": "stdout",
     "output_type": "stream",
     "text": [
      "0.7619047619047619\n"
     ]
    }
   ],
   "source": [
    "model_RandForest_pred = model_RandForest.predict(X_test)\n",
    "model_RandForest_accur_pred = metrics.accuracy_score(y_test, model_RandForest_pred)\n",
    "print(model_RandForest_accur_pred)"
   ]
  },
  {
   "cell_type": "code",
   "execution_count": 32,
   "metadata": {
    "collapsed": false
   },
   "outputs": [
    {
     "name": "stdout",
     "output_type": "stream",
     "text": [
      "%%%%%%%%% Confusion Matrix: Random Forest %%%%%%%%%\n",
      "\n",
      "[[63 15]\n",
      " [20 49]]\n"
     ]
    }
   ],
   "source": [
    "##### confusion matrix ######\n",
    "conf_mat_RandForest = metrics.confusion_matrix(y_true=y_test , y_pred=model_RandForest_pred)\n",
    "print('%%%%%%%%% Confusion Matrix: Random Forest %%%%%%%%%\\n')\n",
    "print(conf_mat_RandForest)\n"
   ]
  },
  {
   "cell_type": "code",
   "execution_count": 33,
   "metadata": {
    "collapsed": false
   },
   "outputs": [
    {
     "name": "stdout",
     "output_type": "stream",
     "text": [
      "%%%%%%%%%%%%%% Classification Report: Random Forest %%%%%%%%%%%%% \n",
      "\n",
      "              precision    recall  f1-score   support\n",
      "\n",
      "           0       0.76      0.81      0.78        78\n",
      "           1       0.77      0.71      0.74        69\n",
      "\n",
      "   micro avg       0.76      0.76      0.76       147\n",
      "   macro avg       0.76      0.76      0.76       147\n",
      "weighted avg       0.76      0.76      0.76       147\n",
      "\n"
     ]
    }
   ],
   "source": [
    "########## Classification Report ################\n",
    "print('%%%%%%%%%%%%%% Classification Report: Random Forest %%%%%%%%%%%%% \\n') \n",
    "print(metrics.classification_report(y_test, model_RandForest_pred))\n"
   ]
  },
  {
   "cell_type": "code",
   "execution_count": null,
   "metadata": {
    "collapsed": true
   },
   "outputs": [],
   "source": []
  },
  {
   "cell_type": "markdown",
   "metadata": {},
   "source": [
    "## I.3) Decision Tree Classifier"
   ]
  },
  {
   "cell_type": "code",
   "execution_count": 34,
   "metadata": {
    "collapsed": false
   },
   "outputs": [
    {
     "data": {
      "text/plain": [
       "DecisionTreeClassifier(class_weight=None, criterion='entropy', max_depth=8,\n",
       "            max_features=None, max_leaf_nodes=None,\n",
       "            min_impurity_decrease=0.0, min_impurity_split=None,\n",
       "            min_samples_leaf=1, min_samples_split=2,\n",
       "            min_weight_fraction_leaf=0.0, presort=False, random_state=None,\n",
       "            splitter='best')"
      ]
     },
     "execution_count": 34,
     "metadata": {},
     "output_type": "execute_result"
    }
   ],
   "source": [
    "model_decision_tree = DecisionTreeClassifier(max_depth=8, criterion='entropy')#, class_weight='balanced')\n",
    "model_decision_tree.fit(X_train, y_train)"
   ]
  },
  {
   "cell_type": "code",
   "execution_count": 35,
   "metadata": {
    "collapsed": false
   },
   "outputs": [
    {
     "name": "stdout",
     "output_type": "stream",
     "text": [
      "[0.71590909 0.76136364 0.72348485 0.68560606 0.72623574]\n",
      "0.7225198755617006\n"
     ]
    }
   ],
   "source": [
    "model_decision_tree_accur = sklearn.model_selection.cross_val_score(model_decision_tree, \n",
    "                                        X_train, y_train, \n",
    "                                        scoring='accuracy',cv=5)\n",
    "print(model_decision_tree_accur)\n",
    "print(model_decision_tree_accur.mean())"
   ]
  },
  {
   "cell_type": "code",
   "execution_count": 36,
   "metadata": {
    "collapsed": false,
    "scrolled": true
   },
   "outputs": [
    {
     "name": "stdout",
     "output_type": "stream",
     "text": [
      "0.7619047619047619\n"
     ]
    }
   ],
   "source": [
    "model_decision_tree_pred = model_decision_tree.predict(X_test)\n",
    "model_decision_tree_accur_pred = metrics.accuracy_score(y_test, model_decision_tree_pred)\n",
    "print(model_decision_tree_accur_pred)"
   ]
  },
  {
   "cell_type": "code",
   "execution_count": 37,
   "metadata": {
    "collapsed": false
   },
   "outputs": [
    {
     "name": "stdout",
     "output_type": "stream",
     "text": [
      "%%%%%%%%% Confusion Matrix: Decision Tree %%%%%%%%%\n",
      "\n",
      "[[62 16]\n",
      " [19 50]]\n"
     ]
    }
   ],
   "source": [
    "##### confusion matrix ######\n",
    "conf_mat_decision_tree = metrics.confusion_matrix(y_true=y_test , y_pred=model_decision_tree_pred)\n",
    "print('%%%%%%%%% Confusion Matrix: Decision Tree %%%%%%%%%\\n')\n",
    "print(conf_mat_decision_tree)\n"
   ]
  },
  {
   "cell_type": "code",
   "execution_count": 38,
   "metadata": {
    "collapsed": false
   },
   "outputs": [
    {
     "name": "stdout",
     "output_type": "stream",
     "text": [
      "%%%%%%%%%%%%%% Classification Report: Decision Tree %%%%%%%%%%%%% \n",
      "\n",
      "              precision    recall  f1-score   support\n",
      "\n",
      "           0       0.77      0.79      0.78        78\n",
      "           1       0.76      0.72      0.74        69\n",
      "\n",
      "   micro avg       0.76      0.76      0.76       147\n",
      "   macro avg       0.76      0.76      0.76       147\n",
      "weighted avg       0.76      0.76      0.76       147\n",
      "\n"
     ]
    }
   ],
   "source": [
    "########## Classification Report ################\n",
    "print('%%%%%%%%%%%%%% Classification Report: Decision Tree %%%%%%%%%%%%% \\n') \n",
    "print(metrics.classification_report(y_test, model_decision_tree_pred))"
   ]
  },
  {
   "cell_type": "code",
   "execution_count": null,
   "metadata": {
    "collapsed": true
   },
   "outputs": [],
   "source": []
  },
  {
   "cell_type": "markdown",
   "metadata": {},
   "source": [
    "## I.4) Logistic Regression"
   ]
  },
  {
   "cell_type": "code",
   "execution_count": 39,
   "metadata": {
    "collapsed": false,
    "scrolled": false
   },
   "outputs": [
    {
     "data": {
      "text/plain": [
       "LogisticRegression(C=0.01, class_weight=None, dual=False, fit_intercept=True,\n",
       "          intercept_scaling=1, max_iter=100, multi_class='auto',\n",
       "          n_jobs=None, penalty='l2', random_state=None, solver='liblinear',\n",
       "          tol=0.0001, verbose=0, warm_start=False)"
      ]
     },
     "execution_count": 39,
     "metadata": {},
     "output_type": "execute_result"
    }
   ],
   "source": [
    "model_logistic_reg = LogisticRegression(C=0.01, solver='liblinear', multi_class='auto')\n",
    "model_logistic_reg.fit(X_train, y_train)"
   ]
  },
  {
   "cell_type": "code",
   "execution_count": 40,
   "metadata": {
    "collapsed": false,
    "scrolled": true
   },
   "outputs": [
    {
     "name": "stdout",
     "output_type": "stream",
     "text": [
      "[0.62121212 0.65909091 0.61742424 0.64772727 0.61977186]\n",
      "0.6330452817144832\n"
     ]
    }
   ],
   "source": [
    "model_logistReg_accur = sklearn.model_selection.cross_val_score(model_logistic_reg, \n",
    "                                        X_train, y_train, \n",
    "                                        scoring='accuracy',cv=5)\n",
    "print(model_logistReg_accur)\n",
    "print(model_logistReg_accur.mean())"
   ]
  },
  {
   "cell_type": "code",
   "execution_count": 41,
   "metadata": {
    "collapsed": false
   },
   "outputs": [
    {
     "name": "stdout",
     "output_type": "stream",
     "text": [
      "0.7619047619047619\n"
     ]
    }
   ],
   "source": [
    "model_logistReg_pred = model_decision_tree.predict(X_test)\n",
    "model_logistReg_accur_pred = metrics.accuracy_score(y_test, model_logistReg_pred)\n",
    "print(model_logistReg_accur_pred)"
   ]
  },
  {
   "cell_type": "code",
   "execution_count": 42,
   "metadata": {
    "collapsed": false
   },
   "outputs": [
    {
     "name": "stdout",
     "output_type": "stream",
     "text": [
      "%%%%%%%%% Confusion Matrix: Logistic Regression %%%%%%%%%\n",
      "\n",
      "[[62 16]\n",
      " [19 50]]\n"
     ]
    }
   ],
   "source": [
    "##### confusion matrix ######\n",
    "conf_mat_logistReg = metrics.confusion_matrix(y_true=y_test , y_pred=model_logistReg_pred)\n",
    "print('%%%%%%%%% Confusion Matrix: Logistic Regression %%%%%%%%%\\n')\n",
    "print(conf_mat_logistReg)\n"
   ]
  },
  {
   "cell_type": "code",
   "execution_count": 43,
   "metadata": {
    "collapsed": false
   },
   "outputs": [
    {
     "name": "stdout",
     "output_type": "stream",
     "text": [
      "%%%%%%%%%%%%%% Classification Report: Logistic Regression %%%%%%%%%%%%% \n",
      "\n",
      "              precision    recall  f1-score   support\n",
      "\n",
      "           0       0.77      0.79      0.78        78\n",
      "           1       0.76      0.72      0.74        69\n",
      "\n",
      "   micro avg       0.76      0.76      0.76       147\n",
      "   macro avg       0.76      0.76      0.76       147\n",
      "weighted avg       0.76      0.76      0.76       147\n",
      "\n"
     ]
    }
   ],
   "source": [
    "########## Classification Report ################\n",
    "print('%%%%%%%%%%%%%% Classification Report: Logistic Regression %%%%%%%%%%%%% \\n') \n",
    "print(metrics.classification_report(y_test, model_logistReg_pred))"
   ]
  },
  {
   "cell_type": "code",
   "execution_count": null,
   "metadata": {
    "collapsed": true
   },
   "outputs": [],
   "source": []
  },
  {
   "cell_type": "markdown",
   "metadata": {},
   "source": [
    "## I.5) Gaussian Naives Bayesian"
   ]
  },
  {
   "cell_type": "code",
   "execution_count": 44,
   "metadata": {
    "collapsed": false
   },
   "outputs": [
    {
     "data": {
      "text/plain": [
       "GaussianNB(priors=None, var_smoothing=1e-09)"
      ]
     },
     "execution_count": 44,
     "metadata": {},
     "output_type": "execute_result"
    }
   ],
   "source": [
    "model_gaus_nb = GaussianNB()\n",
    "model_gaus_nb.fit(X_train, y_train)"
   ]
  },
  {
   "cell_type": "code",
   "execution_count": 45,
   "metadata": {
    "collapsed": false
   },
   "outputs": [
    {
     "name": "stdout",
     "output_type": "stream",
     "text": [
      "[0.625      0.61742424 0.60227273 0.64772727 0.54372624]\n",
      "0.6072300956331375\n"
     ]
    }
   ],
   "source": [
    "model_gaus_nb_accur = sklearn.model_selection.cross_val_score(model_gaus_nb, \n",
    "                                        X_train, y_train, \n",
    "                                        scoring='accuracy',cv=5)\n",
    "print(model_gaus_nb_accur)\n",
    "print(model_gaus_nb_accur.mean())"
   ]
  },
  {
   "cell_type": "code",
   "execution_count": 46,
   "metadata": {
    "collapsed": false
   },
   "outputs": [
    {
     "name": "stdout",
     "output_type": "stream",
     "text": [
      "0.6394557823129252\n"
     ]
    }
   ],
   "source": [
    "model_gaus_nb_pred = model_gaus_nb.predict(X_test)\n",
    "model_gaus_nb_accur_pred = metrics.accuracy_score(y_test, model_gaus_nb_pred)\n",
    "print(model_gaus_nb_accur_pred)"
   ]
  },
  {
   "cell_type": "code",
   "execution_count": 47,
   "metadata": {
    "collapsed": false
   },
   "outputs": [
    {
     "name": "stdout",
     "output_type": "stream",
     "text": [
      "%%%%%%%%% Confusion Matrix: Gaussian Naives Bayesian %%%%%%%%%\n",
      "\n",
      "[[48 30]\n",
      " [23 46]]\n"
     ]
    }
   ],
   "source": [
    "##### confusion matrix ######\n",
    "conf_mat_gaus_nb = metrics.confusion_matrix(y_true=y_test , y_pred=model_gaus_nb_pred)\n",
    "print('%%%%%%%%% Confusion Matrix: Gaussian Naives Bayesian %%%%%%%%%\\n')\n",
    "print(conf_mat_gaus_nb)\n"
   ]
  },
  {
   "cell_type": "code",
   "execution_count": 48,
   "metadata": {
    "collapsed": false
   },
   "outputs": [
    {
     "name": "stdout",
     "output_type": "stream",
     "text": [
      "%%%%%%%%%%%%%% Classification Report: Gaussian Naives Bayesian %%%%%%%%%%%%% \n",
      "\n",
      "              precision    recall  f1-score   support\n",
      "\n",
      "           0       0.68      0.62      0.64        78\n",
      "           1       0.61      0.67      0.63        69\n",
      "\n",
      "   micro avg       0.64      0.64      0.64       147\n",
      "   macro avg       0.64      0.64      0.64       147\n",
      "weighted avg       0.64      0.64      0.64       147\n",
      "\n"
     ]
    }
   ],
   "source": [
    "########## Classification Report ################\n",
    "print('%%%%%%%%%%%%%% Classification Report: Gaussian Naives Bayesian %%%%%%%%%%%%% \\n') \n",
    "print(metrics.classification_report(y_test, model_gaus_nb_pred))"
   ]
  },
  {
   "cell_type": "code",
   "execution_count": null,
   "metadata": {
    "collapsed": true
   },
   "outputs": [],
   "source": []
  },
  {
   "cell_type": "markdown",
   "metadata": {},
   "source": [
    "## I.6) XGBoost Classifier"
   ]
  },
  {
   "cell_type": "code",
   "execution_count": 49,
   "metadata": {
    "collapsed": false
   },
   "outputs": [
    {
     "data": {
      "text/plain": [
       "XGBClassifier(base_score=0.5, booster='gbtree', colsample_bylevel=1,\n",
       "       colsample_bytree=1, gamma=0, learning_rate=0.5, max_delta_step=0,\n",
       "       max_depth=3, min_child_weight=1, missing=None, n_estimators=100,\n",
       "       n_jobs=7, nthread=None, objective='binary:logistic', random_state=0,\n",
       "       reg_alpha=0, reg_lambda=0.1, scale_pos_weight=1, seed=None,\n",
       "       silent=True, subsample=1)"
      ]
     },
     "execution_count": 49,
     "metadata": {},
     "output_type": "execute_result"
    }
   ],
   "source": [
    "model_xgbc = XGBClassifier(learning_rate=0.5, reg_lambda=0.1, n_jobs=7)\n",
    "model_xgbc.fit(X_train, y_train)"
   ]
  },
  {
   "cell_type": "code",
   "execution_count": 50,
   "metadata": {
    "collapsed": false,
    "scrolled": true
   },
   "outputs": [
    {
     "name": "stdout",
     "output_type": "stream",
     "text": [
      "[0.72348485 0.77651515 0.77651515 0.78030303 0.74144487]\n",
      "0.7596526097476668\n"
     ]
    }
   ],
   "source": [
    "model_xgbc_accur = sklearn.model_selection.cross_val_score(model_xgbc, \n",
    "                                        X_train, y_train, \n",
    "                                        scoring='accuracy',cv=5)\n",
    "print(model_xgbc_accur)\n",
    "print(model_xgbc_accur.mean())"
   ]
  },
  {
   "cell_type": "code",
   "execution_count": 51,
   "metadata": {
    "collapsed": false
   },
   "outputs": [
    {
     "name": "stdout",
     "output_type": "stream",
     "text": [
      "0.7551020408163265\n"
     ]
    }
   ],
   "source": [
    "model_xgbc_pred = model_xgbc.predict(X_test)\n",
    "model_xgbc_accur_pred = metrics.accuracy_score(y_test, model_xgbc_pred)\n",
    "print(model_xgbc_accur_pred)"
   ]
  },
  {
   "cell_type": "code",
   "execution_count": 52,
   "metadata": {
    "collapsed": false
   },
   "outputs": [
    {
     "name": "stdout",
     "output_type": "stream",
     "text": [
      "%%%%%%%%% Confusion Matrix: XGBoost Classifier %%%%%%%%%\n",
      "\n",
      "[[60 18]\n",
      " [18 51]]\n"
     ]
    }
   ],
   "source": [
    "##### confusion matrix ######\n",
    "conf_mat_xgbc = metrics.confusion_matrix(y_true=y_test , y_pred=model_xgbc_pred)\n",
    "print('%%%%%%%%% Confusion Matrix: XGBoost Classifier %%%%%%%%%\\n')\n",
    "print(conf_mat_xgbc)\n"
   ]
  },
  {
   "cell_type": "code",
   "execution_count": 53,
   "metadata": {
    "collapsed": false
   },
   "outputs": [
    {
     "name": "stdout",
     "output_type": "stream",
     "text": [
      "%%%%%%%%%%%%%% Classification Report: XGBoost Classifier %%%%%%%%%%%%% \n",
      "\n",
      "              precision    recall  f1-score   support\n",
      "\n",
      "           0       0.77      0.77      0.77        78\n",
      "           1       0.74      0.74      0.74        69\n",
      "\n",
      "   micro avg       0.76      0.76      0.76       147\n",
      "   macro avg       0.75      0.75      0.75       147\n",
      "weighted avg       0.76      0.76      0.76       147\n",
      "\n"
     ]
    }
   ],
   "source": [
    "########## Classification Report ################\n",
    "print('%%%%%%%%%%%%%% Classification Report: XGBoost Classifier %%%%%%%%%%%%% \\n') \n",
    "print(metrics.classification_report(y_test, model_xgbc_pred))"
   ]
  },
  {
   "cell_type": "code",
   "execution_count": null,
   "metadata": {
    "collapsed": true
   },
   "outputs": [],
   "source": []
  },
  {
   "cell_type": "markdown",
   "metadata": {},
   "source": [
    "## I.7) KMeans"
   ]
  },
  {
   "cell_type": "code",
   "execution_count": 54,
   "metadata": {
    "collapsed": false
   },
   "outputs": [
    {
     "data": {
      "text/plain": [
       "KMeans(algorithm='auto', copy_x=True, init='k-means++', max_iter=100,\n",
       "    n_clusters=2, n_init=150, n_jobs=None, precompute_distances='auto',\n",
       "    random_state=None, tol=0.0001, verbose=0)"
      ]
     },
     "execution_count": 54,
     "metadata": {},
     "output_type": "execute_result"
    }
   ],
   "source": [
    "modelkmeans = KMeans(n_clusters=2, init='k-means++', max_iter=100, n_init=150) #'random', max_iter=100, n_init=80)\n",
    "modelkmeans.fit(X_train)"
   ]
  },
  {
   "cell_type": "code",
   "execution_count": 55,
   "metadata": {
    "collapsed": false
   },
   "outputs": [
    {
     "name": "stdout",
     "output_type": "stream",
     "text": [
      "[0.49621212 0.46212121 0.47348485 0.5530303  0.57794677]\n",
      "0.5125590505818642\n"
     ]
    }
   ],
   "source": [
    "modelkmeans_accur = sklearn.model_selection.cross_val_score(modelkmeans, \n",
    "                                        X_train, y_train, \n",
    "                                        scoring='accuracy',cv=5)\n",
    "print(modelkmeans_accur)\n",
    "print(modelkmeans_accur.mean())"
   ]
  },
  {
   "cell_type": "code",
   "execution_count": 56,
   "metadata": {
    "collapsed": false,
    "scrolled": true
   },
   "outputs": [
    {
     "name": "stdout",
     "output_type": "stream",
     "text": [
      "0.4557823129251701\n"
     ]
    }
   ],
   "source": [
    "modelkmeans_pred = modelkmeans.predict(X_test)\n",
    "modelkmeans_accur_pred = metrics.accuracy_score(y_test, modelkmeans_pred)\n",
    "print(modelkmeans_accur_pred)"
   ]
  },
  {
   "cell_type": "code",
   "execution_count": 57,
   "metadata": {
    "collapsed": false
   },
   "outputs": [
    {
     "name": "stdout",
     "output_type": "stream",
     "text": [
      "%%%%%%%%% Confusion Matrix: KMeans %%%%%%%%%\n",
      "\n",
      "[[18 60]\n",
      " [20 49]]\n"
     ]
    }
   ],
   "source": [
    "##### confusion matrix ######\n",
    "conf_mat_kmeans = metrics.confusion_matrix(y_true=y_test , y_pred=modelkmeans_pred)\n",
    "print('%%%%%%%%% Confusion Matrix: KMeans %%%%%%%%%\\n')\n",
    "print(conf_mat_kmeans)\n"
   ]
  },
  {
   "cell_type": "code",
   "execution_count": 58,
   "metadata": {
    "collapsed": false
   },
   "outputs": [
    {
     "name": "stdout",
     "output_type": "stream",
     "text": [
      "%%%%%%%%%%%%%% Classification Report: KMeans %%%%%%%%%%%%% \n",
      "\n",
      "              precision    recall  f1-score   support\n",
      "\n",
      "           0       0.47      0.23      0.31        78\n",
      "           1       0.45      0.71      0.55        69\n",
      "\n",
      "   micro avg       0.46      0.46      0.46       147\n",
      "   macro avg       0.46      0.47      0.43       147\n",
      "weighted avg       0.46      0.46      0.42       147\n",
      "\n"
     ]
    }
   ],
   "source": [
    "########## Classification Report ################\n",
    "print('%%%%%%%%%%%%%% Classification Report: KMeans %%%%%%%%%%%%% \\n') \n",
    "print(metrics.classification_report(y_test, modelkmeans_pred))\n"
   ]
  },
  {
   "cell_type": "code",
   "execution_count": null,
   "metadata": {
    "collapsed": true
   },
   "outputs": [],
   "source": []
  },
  {
   "cell_type": "markdown",
   "metadata": {},
   "source": [
    "## I.8) SVC"
   ]
  },
  {
   "cell_type": "code",
   "execution_count": 59,
   "metadata": {
    "collapsed": false,
    "scrolled": true
   },
   "outputs": [
    {
     "data": {
      "text/plain": [
       "SVC(C=1.0, cache_size=200, class_weight='balanced', coef0=0.0,\n",
       "  decision_function_shape='ovr', degree=3, gamma='scale', kernel='rbf',\n",
       "  max_iter=-1, probability=False, random_state=None, shrinking=True,\n",
       "  tol=0.001, verbose=False)"
      ]
     },
     "execution_count": 59,
     "metadata": {},
     "output_type": "execute_result"
    }
   ],
   "source": [
    "model_svc = svm.SVC(gamma='scale',class_weight= \"balanced\")\n",
    "model_svc.fit(X_train, y_train)  "
   ]
  },
  {
   "cell_type": "code",
   "execution_count": 60,
   "metadata": {
    "collapsed": false
   },
   "outputs": [
    {
     "name": "stdout",
     "output_type": "stream",
     "text": [
      "[0.73106061 0.78787879 0.79924242 0.77272727 0.74524715]\n",
      "0.7672312478396128\n"
     ]
    }
   ],
   "source": [
    "model_svc_accur = sklearn.model_selection.cross_val_score(model_svc, \n",
    "                                        X_train, y_train, \n",
    "                                        scoring='accuracy',cv=5)\n",
    "print(model_svc_accur)\n",
    "print(model_svc_accur.mean())"
   ]
  },
  {
   "cell_type": "code",
   "execution_count": 61,
   "metadata": {
    "collapsed": false,
    "scrolled": true
   },
   "outputs": [
    {
     "name": "stdout",
     "output_type": "stream",
     "text": [
      "0.782312925170068\n"
     ]
    }
   ],
   "source": [
    "model_svc_pred = model_svc.predict(X_test)\n",
    "model_svc_accur_pred = metrics.accuracy_score(y_test, model_svc_pred)\n",
    "print(model_svc_accur_pred)"
   ]
  },
  {
   "cell_type": "code",
   "execution_count": 62,
   "metadata": {
    "collapsed": false
   },
   "outputs": [
    {
     "name": "stdout",
     "output_type": "stream",
     "text": [
      "%%%%%%%%% Confusion Matrix: SVC %%%%%%%%%\n",
      "\n",
      "[[63 15]\n",
      " [17 52]]\n"
     ]
    }
   ],
   "source": [
    "##### confusion matrix ######\n",
    "conf_mat_svc = metrics.confusion_matrix(y_true=y_test , y_pred=model_svc_pred)\n",
    "print('%%%%%%%%% Confusion Matrix: SVC %%%%%%%%%\\n')\n",
    "print(conf_mat_svc)\n"
   ]
  },
  {
   "cell_type": "code",
   "execution_count": 63,
   "metadata": {
    "collapsed": false
   },
   "outputs": [
    {
     "name": "stdout",
     "output_type": "stream",
     "text": [
      "%%%%%%%%%%%%%% Classification Report: SVC %%%%%%%%%%%%% \n",
      "\n",
      "              precision    recall  f1-score   support\n",
      "\n",
      "           0       0.79      0.81      0.80        78\n",
      "           1       0.78      0.75      0.76        69\n",
      "\n",
      "   micro avg       0.78      0.78      0.78       147\n",
      "   macro avg       0.78      0.78      0.78       147\n",
      "weighted avg       0.78      0.78      0.78       147\n",
      "\n"
     ]
    }
   ],
   "source": [
    "########## Classification Report ################\n",
    "print('%%%%%%%%%%%%%% Classification Report: SVC %%%%%%%%%%%%% \\n') \n",
    "print(metrics.classification_report(y_test, model_svc_pred))"
   ]
  },
  {
   "cell_type": "code",
   "execution_count": null,
   "metadata": {
    "collapsed": true
   },
   "outputs": [],
   "source": []
  },
  {
   "cell_type": "markdown",
   "metadata": {},
   "source": [
    "## I.9) Structural SVM"
   ]
  },
  {
   "cell_type": "code",
   "execution_count": null,
   "metadata": {
    "collapsed": true
   },
   "outputs": [],
   "source": []
  },
  {
   "cell_type": "code",
   "execution_count": null,
   "metadata": {
    "collapsed": true
   },
   "outputs": [],
   "source": []
  },
  {
   "cell_type": "code",
   "execution_count": null,
   "metadata": {
    "collapsed": true
   },
   "outputs": [],
   "source": []
  }
 ],
 "metadata": {
  "kernelspec": {
   "display_name": "Python 3",
   "language": "python",
   "name": "python3"
  },
  "language_info": {
   "codemirror_mode": {
    "name": "ipython",
    "version": 3
   },
   "file_extension": ".py",
   "mimetype": "text/x-python",
   "name": "python",
   "nbconvert_exporter": "python",
   "pygments_lexer": "ipython3",
   "version": "3.5.3"
  }
 },
 "nbformat": 4,
 "nbformat_minor": 2
}
