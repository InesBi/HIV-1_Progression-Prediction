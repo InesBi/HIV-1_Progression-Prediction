{
 "cells": [
  {
   "cell_type": "code",
   "execution_count": 1,
   "metadata": {
    "collapsed": true
   },
   "outputs": [],
   "source": [
    "import numpy as np\n",
    "import pandas as pd\n",
    "import csv\n",
    "import matplotlib.pyplot as plt\n",
    "import numpy as np\n",
    "import scipy as scp\n",
    "from collections import Counter\n",
    "from imblearn.over_sampling import SMOTE\n",
    "from sklearn.model_selection import train_test_split\n",
    "from sklearn.metrics import classification_report, accuracy_score\n",
    "from sklearn import linear_model\n",
    "from sklearn.neighbors import KNeighborsClassifier\n",
    "from sklearn.svm import LinearSVC\n",
    "from sklearn.svm import SVC\n",
    "from sklearn.linear_model import LogisticRegression, LogisticRegressionCV\n",
    "from sklearn.datasets import make_classification\n",
    "from sklearn.linear_model import Perceptron\n",
    "import warnings\n",
    "warnings.filterwarnings(\"ignore\")"
   ]
  },
  {
   "cell_type": "code",
   "execution_count": 2,
   "metadata": {
    "collapsed": false
   },
   "outputs": [
    {
     "data": {
      "text/html": [
       "<div>\n",
       "<table border=\"1\" class=\"dataframe\">\n",
       "  <thead>\n",
       "    <tr style=\"text-align: right;\">\n",
       "      <th></th>\n",
       "      <th>PatientID</th>\n",
       "      <th>Resp</th>\n",
       "      <th>PR Seq</th>\n",
       "      <th>RT Seq</th>\n",
       "      <th>VL-t0</th>\n",
       "      <th>CD4-t0</th>\n",
       "    </tr>\n",
       "  </thead>\n",
       "  <tbody>\n",
       "    <tr>\n",
       "      <th>0</th>\n",
       "      <td>1</td>\n",
       "      <td>0</td>\n",
       "      <td>CCTCAAATCACTCTTTGGCAACGACCCCTCGTCCCAATAAGGATAG...</td>\n",
       "      <td>CCCATTAGTCCTATTGAAACTGTACCAGTAAAGCTAAAGCCAGGAA...</td>\n",
       "      <td>4.3</td>\n",
       "      <td>145</td>\n",
       "    </tr>\n",
       "    <tr>\n",
       "      <th>1</th>\n",
       "      <td>2</td>\n",
       "      <td>0</td>\n",
       "      <td>CCTCAAATCACTCTTTGGCAACGACCCCTCGTCGCAATAAAGATAG...</td>\n",
       "      <td>CCCATTAGTCCTATTGAAACTGTACCAGTAAAATTAAAGCCAGGAA...</td>\n",
       "      <td>3.6</td>\n",
       "      <td>224</td>\n",
       "    </tr>\n",
       "    <tr>\n",
       "      <th>2</th>\n",
       "      <td>3</td>\n",
       "      <td>0</td>\n",
       "      <td>CCTCAAATCACTCTTTGGCAACGACCCCTCGTCGCAATAAAGGTAG...</td>\n",
       "      <td>CCCATTAGTCCTATTGAAACTGTACCAGTAAAATTAAAGCCAGGAA...</td>\n",
       "      <td>3.2</td>\n",
       "      <td>1017</td>\n",
       "    </tr>\n",
       "    <tr>\n",
       "      <th>3</th>\n",
       "      <td>4</td>\n",
       "      <td>0</td>\n",
       "      <td>CCTCAAATCACTCTTTGGCAACGACCCCTCGTCGCAATAAGGATAG...</td>\n",
       "      <td>CCCATTAGTCCTATTGAAACTGTACCAGTAAAATTAAAGCCAGGAA...</td>\n",
       "      <td>5.7</td>\n",
       "      <td>206</td>\n",
       "    </tr>\n",
       "    <tr>\n",
       "      <th>4</th>\n",
       "      <td>5</td>\n",
       "      <td>0</td>\n",
       "      <td>CCTCAAATCACTCTTTGGCAACGACCCCTCGTCGCAGTAAAGATAG...</td>\n",
       "      <td>CCCATTAGTCCTATTGAAACTGTACCAGTAAAATTAAAGCCAGGAA...</td>\n",
       "      <td>3.5</td>\n",
       "      <td>572</td>\n",
       "    </tr>\n",
       "  </tbody>\n",
       "</table>\n",
       "</div>"
      ],
      "text/plain": [
       "   PatientID  Resp                                             PR Seq  \\\n",
       "0          1     0  CCTCAAATCACTCTTTGGCAACGACCCCTCGTCCCAATAAGGATAG...   \n",
       "1          2     0  CCTCAAATCACTCTTTGGCAACGACCCCTCGTCGCAATAAAGATAG...   \n",
       "2          3     0  CCTCAAATCACTCTTTGGCAACGACCCCTCGTCGCAATAAAGGTAG...   \n",
       "3          4     0  CCTCAAATCACTCTTTGGCAACGACCCCTCGTCGCAATAAGGATAG...   \n",
       "4          5     0  CCTCAAATCACTCTTTGGCAACGACCCCTCGTCGCAGTAAAGATAG...   \n",
       "\n",
       "                                              RT Seq  VL-t0  CD4-t0  \n",
       "0  CCCATTAGTCCTATTGAAACTGTACCAGTAAAGCTAAAGCCAGGAA...    4.3     145  \n",
       "1  CCCATTAGTCCTATTGAAACTGTACCAGTAAAATTAAAGCCAGGAA...    3.6     224  \n",
       "2  CCCATTAGTCCTATTGAAACTGTACCAGTAAAATTAAAGCCAGGAA...    3.2    1017  \n",
       "3  CCCATTAGTCCTATTGAAACTGTACCAGTAAAATTAAAGCCAGGAA...    5.7     206  \n",
       "4  CCCATTAGTCCTATTGAAACTGTACCAGTAAAATTAAAGCCAGGAA...    3.5     572  "
      ]
     },
     "execution_count": 2,
     "metadata": {},
     "output_type": "execute_result"
    }
   ],
   "source": [
    "#loading the data and visualization\n",
    "data_train = pd.read_csv('training_data.csv', sep=',')\n",
    "data_test = pd.read_csv('test_data.csv', sep=',')\n",
    "data_train.head()"
   ]
  },
  {
   "cell_type": "markdown",
   "metadata": {},
   "source": [
    "As from our dataset we have VL-t0 and CD4-t0 as numerical column, now we can compute some descriptive statistics on them such as the covariance and correlation matrix which describe the variance and correlation between the two columns. "
   ]
  },
  {
   "cell_type": "code",
   "execution_count": 3,
   "metadata": {
    "collapsed": false
   },
   "outputs": [
    {
     "name": "stdout",
     "output_type": "stream",
     "text": [
      "covariance: -58.1310910710711\n",
      "            VL-t0        CD4-t0\n",
      "VL-t0    0.496714    -58.131091\n",
      "CD4-t0 -58.131091  39277.972929\n",
      "correlation: -0.4161793739610807\n",
      "           VL-t0    CD4-t0\n",
      "VL-t0   1.000000 -0.416179\n",
      "CD4-t0 -0.416179  1.000000\n"
     ]
    }
   ],
   "source": [
    "#frame creation and covarriance between (VL and CD4)\n",
    "data_new = data_train[['Resp','VL-t0', 'CD4-t0']]\n",
    "frame = pd.DataFrame(data_new, columns=['VL-t0', 'CD4-t0'])\n",
    "print ('covariance:',frame [ 'VL-t0' ].cov(frame ['CD4-t0']))\n",
    "print (frame.cov())\n",
    "print ('correlation:',frame [ 'VL-t0' ].corr(frame ['CD4-t0']))\n",
    "print (frame.corr())"
   ]
  },
  {
   "cell_type": "code",
   "execution_count": 4,
   "metadata": {
    "collapsed": false
   },
   "outputs": [
    {
     "data": {
      "image/png": "[encoded data removed]",
      "text/plain": [
       "<matplotlib.figure.Figure at 0x7fdc4ab9b160>"
      ]
     },
     "metadata": {},
     "output_type": "display_data"
    },
    {
     "data": {
      "image/png": "[encoded data removed]",
      "text/plain": [
       "<matplotlib.figure.Figure at 0x7fdbf1512a90>"
      ]
     },
     "metadata": {},
     "output_type": "display_data"
    },
    {
     "data": {
      "image/png": "[encoded data removed]",
      "text/plain": [
       "<matplotlib.figure.Figure at 0x7fdbeaf93c18>"
      ]
     },
     "metadata": {},
     "output_type": "display_data"
    }
   ],
   "source": [
    "import seaborn as sns\n",
    "sns.pairplot(data_new[['VL-t0', 'CD4-t0']])\n",
    "data_new.plot.scatter(x= 'VL-t0', y= 'CD4-t0')\n",
    "data_new[[\"Resp\"]].plot.hist()\n",
    "plt.show()"
   ]
  },
  {
   "cell_type": "markdown",
   "metadata": {
    "collapsed": true
   },
   "source": [
    "################# new dataset ########################"
   ]
  },
  {
   "cell_type": "markdown",
   "metadata": {},
   "source": [
    "From the data exploration and previous histogram, we can realize our dataset is not balanced and we have to balance it by first remove all missing data and explore the two sequence columns that we have ."
   ]
  },
  {
   "cell_type": "code",
   "execution_count": 5,
   "metadata": {
    "collapsed": false
   },
   "outputs": [
    {
     "data": {
      "text/html": [
       "<div>\n",
       "<table border=\"1\" class=\"dataframe\">\n",
       "  <thead>\n",
       "    <tr style=\"text-align: right;\">\n",
       "      <th></th>\n",
       "      <th>Unnamed: 0</th>\n",
       "      <th>Resp</th>\n",
       "      <th>VL.t0</th>\n",
       "      <th>CD4.t0</th>\n",
       "      <th>rtlength</th>\n",
       "      <th>pr_A</th>\n",
       "      <th>pr_C</th>\n",
       "      <th>pr_G</th>\n",
       "      <th>pr_R</th>\n",
       "      <th>pr_T</th>\n",
       "      <th>pr_Y</th>\n",
       "      <th>PR_GC</th>\n",
       "      <th>RT_A</th>\n",
       "      <th>RT_C</th>\n",
       "      <th>RT_G</th>\n",
       "      <th>RT_R</th>\n",
       "      <th>RT_T</th>\n",
       "      <th>RT_Y</th>\n",
       "      <th>RT_GC</th>\n",
       "    </tr>\n",
       "  </thead>\n",
       "  <tbody>\n",
       "    <tr>\n",
       "      <th>0</th>\n",
       "      <td>1</td>\n",
       "      <td>0</td>\n",
       "      <td>4.3</td>\n",
       "      <td>145</td>\n",
       "      <td>1005</td>\n",
       "      <td>104</td>\n",
       "      <td>51</td>\n",
       "      <td>67</td>\n",
       "      <td>2</td>\n",
       "      <td>71</td>\n",
       "      <td>2</td>\n",
       "      <td>0.402730</td>\n",
       "      <td>402</td>\n",
       "      <td>167</td>\n",
       "      <td>210</td>\n",
       "      <td>1</td>\n",
       "      <td>1</td>\n",
       "      <td>1</td>\n",
       "      <td>0.378134</td>\n",
       "    </tr>\n",
       "    <tr>\n",
       "      <th>1</th>\n",
       "      <td>2</td>\n",
       "      <td>0</td>\n",
       "      <td>3.6</td>\n",
       "      <td>224</td>\n",
       "      <td>909</td>\n",
       "      <td>110</td>\n",
       "      <td>49</td>\n",
       "      <td>65</td>\n",
       "      <td>73</td>\n",
       "      <td>0</td>\n",
       "      <td>0</td>\n",
       "      <td>0.383838</td>\n",
       "      <td>355</td>\n",
       "      <td>151</td>\n",
       "      <td>193</td>\n",
       "      <td>1</td>\n",
       "      <td>3</td>\n",
       "      <td>203</td>\n",
       "      <td>0.381375</td>\n",
       "    </tr>\n",
       "    <tr>\n",
       "      <th>2</th>\n",
       "      <td>3</td>\n",
       "      <td>0</td>\n",
       "      <td>3.2</td>\n",
       "      <td>1017</td>\n",
       "      <td>903</td>\n",
       "      <td>105</td>\n",
       "      <td>47</td>\n",
       "      <td>67</td>\n",
       "      <td>2</td>\n",
       "      <td>74</td>\n",
       "      <td>2</td>\n",
       "      <td>0.389078</td>\n",
       "      <td>360</td>\n",
       "      <td>146</td>\n",
       "      <td>181</td>\n",
       "      <td>1</td>\n",
       "      <td>7</td>\n",
       "      <td>201</td>\n",
       "      <td>0.368243</td>\n",
       "    </tr>\n",
       "    <tr>\n",
       "      <th>3</th>\n",
       "      <td>4</td>\n",
       "      <td>0</td>\n",
       "      <td>5.7</td>\n",
       "      <td>206</td>\n",
       "      <td>1455</td>\n",
       "      <td>105</td>\n",
       "      <td>49</td>\n",
       "      <td>71</td>\n",
       "      <td>1</td>\n",
       "      <td>71</td>\n",
       "      <td>0</td>\n",
       "      <td>0.405405</td>\n",
       "      <td>586</td>\n",
       "      <td>245</td>\n",
       "      <td>305</td>\n",
       "      <td>1</td>\n",
       "      <td>1</td>\n",
       "      <td>317</td>\n",
       "      <td>0.378527</td>\n",
       "    </tr>\n",
       "    <tr>\n",
       "      <th>4</th>\n",
       "      <td>5</td>\n",
       "      <td>0</td>\n",
       "      <td>3.5</td>\n",
       "      <td>572</td>\n",
       "      <td>903</td>\n",
       "      <td>105</td>\n",
       "      <td>50</td>\n",
       "      <td>69</td>\n",
       "      <td>73</td>\n",
       "      <td>0</td>\n",
       "      <td>0</td>\n",
       "      <td>0.400673</td>\n",
       "      <td>353</td>\n",
       "      <td>150</td>\n",
       "      <td>184</td>\n",
       "      <td>2</td>\n",
       "      <td>5</td>\n",
       "      <td>1</td>\n",
       "      <td>0.374439</td>\n",
       "    </tr>\n",
       "  </tbody>\n",
       "</table>\n",
       "</div>"
      ],
      "text/plain": [
       "   Unnamed: 0  Resp  VL.t0  CD4.t0  rtlength  pr_A  pr_C  pr_G  pr_R  pr_T  \\\n",
       "0           1     0    4.3     145      1005   104    51    67     2    71   \n",
       "1           2     0    3.6     224       909   110    49    65    73     0   \n",
       "2           3     0    3.2    1017       903   105    47    67     2    74   \n",
       "3           4     0    5.7     206      1455   105    49    71     1    71   \n",
       "4           5     0    3.5     572       903   105    50    69    73     0   \n",
       "\n",
       "   pr_Y     PR_GC  RT_A  RT_C  RT_G  RT_R  RT_T  RT_Y     RT_GC  \n",
       "0     2  0.402730   402   167   210     1     1     1  0.378134  \n",
       "1     0  0.383838   355   151   193     1     3   203  0.381375  \n",
       "2     2  0.389078   360   146   181     1     7   201  0.368243  \n",
       "3     0  0.405405   586   245   305     1     1   317  0.378527  \n",
       "4     0  0.400673   353   150   184     2     5     1  0.374439  "
      ]
     },
     "execution_count": 5,
     "metadata": {},
     "output_type": "execute_result"
    }
   ],
   "source": [
    "#loading the data\n",
    "data = pd.read_csv('dataraning_new_data.csv', sep=',')\n",
    "data.head()"
   ]
  },
  {
   "cell_type": "code",
   "execution_count": 6,
   "metadata": {
    "collapsed": true
   },
   "outputs": [],
   "source": [
    "featureSet = [\"VL.t0\",\"CD4.t0\",\"rtlength\", \"pr_A\", \"pr_C\",\"pr_G\", \n",
    "              \"pr_R\", \"pr_T\",\"pr_Y\", \"PR_GC\",\"RT_A\", \"RT_C\",\"RT_G\",\"RT_R\", \"RT_T\", \"RT_Y\", \"RT_GC\"]\n",
    "# featureSet = [\"VL.t0\":\"RT_GC\"]\n",
    "X = data[featureSet]\n",
    "y = data.Resp\n",
    "X_train, X_test, y_train, y_test = train_test_split(X, y, test_size=0.2, random_state=42)"
   ]
  },
  {
   "cell_type": "code",
   "execution_count": 7,
   "metadata": {
    "collapsed": false
   },
   "outputs": [
    {
     "data": {
      "text/plain": [
       "(736,)"
      ]
     },
     "execution_count": 7,
     "metadata": {},
     "output_type": "execute_result"
    }
   ],
   "source": [
    "\n",
    "y_train.shape"
   ]
  },
  {
   "cell_type": "markdown",
   "metadata": {},
   "source": [
    "let us balance the data "
   ]
  },
  {
   "cell_type": "code",
   "execution_count": 8,
   "metadata": {
    "collapsed": true
   },
   "outputs": [],
   "source": [
    "sm = SMOTE(sampling_strategy = 'auto',kind = 'regular' )\n",
    "X_r ,y_r = sm.fit_sample (data , data['Resp'])"
   ]
  },
  {
   "cell_type": "code",
   "execution_count": 9,
   "metadata": {
    "collapsed": true
   },
   "outputs": [],
   "source": [
    "Xc = X_r[:,2:]\n",
    "yc = y_r\n",
    "Xc_train, Xc_test, yc_train, yc_test = train_test_split(Xc, yc, test_size=0.2, random_state=42)"
   ]
  },
  {
   "cell_type": "markdown",
   "metadata": {},
   "source": [
    "Logistic Regression"
   ]
  },
  {
   "cell_type": "code",
   "execution_count": 10,
   "metadata": {
    "collapsed": false
   },
   "outputs": [
    {
     "name": "stdout",
     "output_type": "stream",
     "text": [
      "----------------- LogisticRegression--------------------\n",
      "0.5986394557823129\n",
      "              precision    recall  f1-score   support\n",
      "\n",
      "           0       0.54      0.96      0.69       139\n",
      "           1       0.89      0.27      0.42       155\n",
      "\n",
      "   micro avg       0.60      0.60      0.60       294\n",
      "   macro avg       0.72      0.62      0.56       294\n",
      "weighted avg       0.73      0.60      0.55       294\n",
      "\n",
      "----------------- LogisticRegressionCV--------------------\n",
      "0.7142857142857143\n",
      "              precision    recall  f1-score   support\n",
      "\n",
      "           0       0.67      0.78      0.72       139\n",
      "           1       0.77      0.66      0.71       155\n",
      "\n",
      "   micro avg       0.71      0.71      0.71       294\n",
      "   macro avg       0.72      0.72      0.71       294\n",
      "weighted avg       0.72      0.71      0.71       294\n",
      "\n",
      "----------------- LogisticRegression SGDClassifier--------------------\n",
      "0.564625850340136\n",
      "              precision    recall  f1-score   support\n",
      "\n",
      "           0       0.87      0.09      0.17       139\n",
      "           1       0.55      0.99      0.71       155\n",
      "\n",
      "   micro avg       0.56      0.56      0.56       294\n",
      "   macro avg       0.71      0.54      0.44       294\n",
      "weighted avg       0.70      0.56      0.45       294\n",
      "\n"
     ]
    }
   ],
   "source": [
    "print('----------------- LogisticRegression--------------------')\n",
    "logistic_model = LogisticRegression(random_state=0, solver='lbfgs').fit(X_train, y_train)\n",
    "logistic_predict = logistic_model.predict(Xc_test)\n",
    "print(accuracy_score(yc_test, logistic_predict))\n",
    "print(classification_report(yc_test, logistic_predict))\n",
    "\n",
    "print('----------------- LogisticRegressionCV--------------------')\n",
    "\n",
    "logistic_model = LogisticRegressionCV( random_state=0).fit(Xc_train, yc_train)\n",
    "logistic_predict = logistic_model.predict(Xc_test)\n",
    "print(accuracy_score(yc_test, logistic_predict))\n",
    "print(classification_report(yc_test, logistic_predict))\n",
    "\n",
    "print('----------------- LogisticRegression SGDClassifier--------------------')\n",
    "logistic_model = linear_model.SGDClassifier( tol=1e-3).fit(Xc_train, yc_train)\n",
    "logistic_predict = logistic_model.predict(Xc_test)\n",
    "print(accuracy_score(yc_test, logistic_predict))\n",
    "print(classification_report(yc_test, logistic_predict))\n"
   ]
  },
  {
   "cell_type": "markdown",
   "metadata": {},
   "source": [
    "# Support Vector Machine"
   ]
  },
  {
   "cell_type": "code",
   "execution_count": 11,
   "metadata": {
    "collapsed": false
   },
   "outputs": [
    {
     "name": "stdout",
     "output_type": "stream",
     "text": [
      "----------------- LinearSVC--------------------\n",
      "0.6564625850340136\n",
      "              precision    recall  f1-score   support\n",
      "\n",
      "           0       0.58      0.95      0.72       139\n",
      "           1       0.90      0.39      0.55       155\n",
      "\n",
      "   micro avg       0.66      0.66      0.66       294\n",
      "   macro avg       0.74      0.67      0.64       294\n",
      "weighted avg       0.75      0.66      0.63       294\n",
      "\n",
      "-----------------SVC--------------------\n",
      "0.6054421768707483\n",
      "              precision    recall  f1-score   support\n",
      "\n",
      "           0       0.55      1.00      0.71       139\n",
      "           1       1.00      0.25      0.40       155\n",
      "\n",
      "   micro avg       0.61      0.61      0.61       294\n",
      "   macro avg       0.77      0.63      0.55       294\n",
      "weighted avg       0.78      0.61      0.55       294\n",
      "\n",
      "-----------------perceptron--------------------\n",
      "0.54421768707483\n",
      "              precision    recall  f1-score   support\n",
      "\n",
      "           0       0.86      0.04      0.08       139\n",
      "           1       0.54      0.99      0.70       155\n",
      "\n",
      "   micro avg       0.54      0.54      0.54       294\n",
      "   macro avg       0.70      0.52      0.39       294\n",
      "weighted avg       0.69      0.54      0.41       294\n",
      "\n"
     ]
    }
   ],
   "source": [
    "\n",
    "print('----------------- LinearSVC--------------------')\n",
    "svm_model = LinearSVC(random_state=0, tol=1e-5).fit(Xc_train, yc_train)\n",
    "svm_predict = svm_model.predict(Xc_test)\n",
    "print(accuracy_score(yc_test, svm_predict))\n",
    "print(classification_report(yc_test, svm_predict))\n",
    "print('-----------------SVC--------------------')\n",
    "svm_model = SVC(gamma='auto').fit(Xc_train, yc_train)\n",
    "svm_predict = svm_model.predict(Xc_test)\n",
    "print(accuracy_score(yc_test, svm_predict))\n",
    "print(classification_report(yc_test, svm_predict))\n",
    "print('-----------------perceptron--------------------')\n",
    "model = Perceptron(tol=1e-3, random_state=0).fit(Xc_train, yc_train)\n",
    "predict = model.predict(Xc_test)\n",
    "print(accuracy_score(yc_test,predict))\n",
    "print(classification_report(yc_test,predict))\n"
   ]
  },
  {
   "cell_type": "code",
   "execution_count": 12,
   "metadata": {
    "collapsed": false
   },
   "outputs": [
    {
     "name": "stdout",
     "output_type": "stream",
     "text": [
      "-----------------RandomForestClassifier--------------------\n",
      "0.7721088435374149\n",
      "              precision    recall  f1-score   support\n",
      "\n",
      "           0       0.76      0.76      0.76       139\n",
      "           1       0.79      0.78      0.78       155\n",
      "\n",
      "   micro avg       0.77      0.77      0.77       294\n",
      "   macro avg       0.77      0.77      0.77       294\n",
      "weighted avg       0.77      0.77      0.77       294\n",
      "\n"
     ]
    }
   ],
   "source": [
    "print('-----------------RandomForestClassifier--------------------')\n",
    "from sklearn.ensemble import RandomForestClassifier\n",
    "from sklearn.datasets import make_classification\n",
    "model  = RandomForestClassifier(n_estimators=100, max_depth=2,random_state=0).fit(Xc_train, yc_train)\n",
    "predict = model.predict(Xc_test)\n",
    "print(accuracy_score(yc_test,predict))\n",
    "print(classification_report(yc_test,predict))"
   ]
  },
  {
   "cell_type": "markdown",
   "metadata": {},
   "source": [
    "# KNN Algorithm"
   ]
  },
  {
   "cell_type": "markdown",
   "metadata": {},
   "source": [
    "KNN is a non-parametric where  non-parametric means there is no assumption for underlying data distribution. The model structure determined from the dataset wich is  very helpful in practice as most of the real world datasets do not follow mathematical theoretical assumptions. \n",
    "\n",
    "In KNN, K is the number of nearest neighbors. The number of neighbors is the core deciding factor. K is generally an odd number if the number of classes is 2. When K=1, then the algorithm is known as the nearest neighbor algorithm. This is the simplest case. "
   ]
  },
  {
   "cell_type": "code",
   "execution_count": 13,
   "metadata": {
    "collapsed": false
   },
   "outputs": [
    {
     "name": "stdout",
     "output_type": "stream",
     "text": [
      "-----------------KNeighborsClassifier--------------------\n",
      "accuracy: 0.7346938775510204\n",
      "              precision    recall  f1-score   support\n",
      "\n",
      "           0       0.76      0.64      0.70       139\n",
      "           1       0.72      0.82      0.77       155\n",
      "\n",
      "   micro avg       0.73      0.73      0.73       294\n",
      "   macro avg       0.74      0.73      0.73       294\n",
      "weighted avg       0.74      0.73      0.73       294\n",
      "\n"
     ]
    }
   ],
   "source": [
    "print('-----------------KNeighborsClassifier--------------------')\n",
    "from sklearn.neighbors import KNeighborsClassifier\n",
    "neigh = KNeighborsClassifier(n_neighbors=3).fit(Xc_train, yc_train)\n",
    "predict = neigh.predict(Xc_test)\n",
    "print('accuracy:',accuracy_score(yc_test,predict))\n",
    "print(classification_report(yc_test,predict))"
   ]
  },
  {
   "cell_type": "code",
   "execution_count": null,
   "metadata": {
    "collapsed": true
   },
   "outputs": [],
   "source": []
  }
 ],
 "metadata": {
  "kernelspec": {
   "display_name": "Python 3",
   "language": "python",
   "name": "python3"
  },
  "language_info": {
   "codemirror_mode": {
    "name": "ipython",
    "version": 3
   },
   "file_extension": ".py",
   "mimetype": "text/x-python",
   "name": "python",
   "nbconvert_exporter": "python",
   "pygments_lexer": "ipython3",
   "version": "3.5.3"
  }
 },
 "nbformat": 4,
 "nbformat_minor": 2
}
